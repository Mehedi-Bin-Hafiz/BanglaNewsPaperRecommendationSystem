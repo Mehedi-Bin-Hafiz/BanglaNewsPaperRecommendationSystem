{
 "cells": [
  {
   "cell_type": "code",
   "execution_count": null,
   "metadata": {
    "id": "rqUE6h3-vZJ0"
   },
   "outputs": [],
   "source": [
    "import pandas as pd\n",
    "import pandas as pd \n",
    "import numpy as np\n",
    "from tqdm import tqdm\n",
    "tqdm.pandas(desc=\"progress-bar\")\n",
    "from gensim.models import Doc2Vec\n",
    "from sklearn import utils\n",
    "from sklearn.model_selection import train_test_split\n",
    "import gensim\n",
    "from sklearn.linear_model import LogisticRegression\n",
    "from gensim.models.doc2vec import TaggedDocument\n",
    "import re\n",
    "import seaborn as sns\n",
    "import matplotlib.pyplot as plt"
   ]
  },
  {
   "cell_type": "code",
   "execution_count": null,
   "metadata": {
    "colab": {
     "base_uri": "https://localhost:8080/"
    },
    "id": "TaFMiCOnvjw1",
    "outputId": "f2efafb7-f6ce-4f6e-904e-a03cab808b82"
   },
   "outputs": [
    {
     "data": {
      "text/plain": [
       "Index(['Unnamed: 0', 'tags', 'headline', 'url', 'clean_body',\n",
       "       'stop_clean_body', 'target'],\n",
       "      dtype='object')"
      ]
     },
     "execution_count": 2,
     "metadata": {},
     "output_type": "execute_result"
    }
   ],
   "source": [
    "df = pd.read_excel(\"/content/drive/MyDrive/colab/FinalDataset/FinalTrainAbleDataset.xlsx\").sample(frac=1)\n",
    "df.columns"
   ]
  },
  {
   "cell_type": "code",
   "execution_count": null,
   "metadata": {
    "colab": {
     "base_uri": "https://localhost:8080/",
     "height": 208.0
    },
    "id": "zkFZZns_5lad",
    "outputId": "e82f0ebd-3d05-4aad-c07e-112bdaacaaff"
   },
   "outputs": [
    {
     "data": {
      "text/html": [
       "\n",
       "  <div id=\"df-ae1522cc-988e-4634-89e5-d91f78a78d9e\">\n",
       "    <div class=\"colab-df-container\">\n",
       "      <div>\n",
       "<style scoped>\n",
       "    .dataframe tbody tr th:only-of-type {\n",
       "        vertical-align: middle;\n",
       "    }\n",
       "\n",
       "    .dataframe tbody tr th {\n",
       "        vertical-align: top;\n",
       "    }\n",
       "\n",
       "    .dataframe thead th {\n",
       "        text-align: right;\n",
       "    }\n",
       "</style>\n",
       "<table border=\"1\" class=\"dataframe\">\n",
       "  <thead>\n",
       "    <tr style=\"text-align: right;\">\n",
       "      <th></th>\n",
       "      <th>Unnamed: 0</th>\n",
       "      <th>tags</th>\n",
       "      <th>headline</th>\n",
       "      <th>url</th>\n",
       "      <th>clean_body</th>\n",
       "      <th>stop_clean_body</th>\n",
       "      <th>target</th>\n",
       "    </tr>\n",
       "  </thead>\n",
       "  <tbody>\n",
       "    <tr>\n",
       "      <th>4197</th>\n",
       "      <td>326</td>\n",
       "      <td>['মতামত', 'আন্তর্জাতিক', 'লেখকের কলাম']</td>\n",
       "      <td>যুক্তরাষ্ট্রে ইবোলা</td>\n",
       "      <td>https://www.prothomalo.com/opinion/column/যুক্...</td>\n",
       "      <td>টমাস এরিক ডানকানই প্রথম মার্কিন যুক্তরাষ্ট্রে...</td>\n",
       "      <td>টমাস এরিক ডানকানই মার্কিন যুক্তরাষ্ট্রে ইবোলা...</td>\n",
       "      <td>column</td>\n",
       "    </tr>\n",
       "    <tr>\n",
       "      <th>3840</th>\n",
       "      <td>106</td>\n",
       "      <td>['আমার চট্টগ্রাম']</td>\n",
       "      <td>আনোয়ারায় স্কুল ব্যাংকিং শুরু</td>\n",
       "      <td>https://www.prothomalo.com/bangladesh/district...</td>\n",
       "      <td>আনোয়ারায় শিক্ষার্থীদের মধ্যে স্কুল ব্যাংকিং...</td>\n",
       "      <td>আনোয়ারায় শিক্ষার্থীদের স্কুল ব্যাংকিং কার্যক...</td>\n",
       "      <td>district</td>\n",
       "    </tr>\n",
       "  </tbody>\n",
       "</table>\n",
       "</div>\n",
       "      <button class=\"colab-df-convert\" onclick=\"convertToInteractive('df-ae1522cc-988e-4634-89e5-d91f78a78d9e')\"\n",
       "              title=\"Convert this dataframe to an interactive table.\"\n",
       "              style=\"display:none;\">\n",
       "        \n",
       "  <svg xmlns=\"http://www.w3.org/2000/svg\" height=\"24px\"viewBox=\"0 0 24 24\"\n",
       "       width=\"24px\">\n",
       "    <path d=\"M0 0h24v24H0V0z\" fill=\"none\"/>\n",
       "    <path d=\"M18.56 5.44l.94 2.06.94-2.06 2.06-.94-2.06-.94-.94-2.06-.94 2.06-2.06.94zm-11 1L8.5 8.5l.94-2.06 2.06-.94-2.06-.94L8.5 2.5l-.94 2.06-2.06.94zm10 10l.94 2.06.94-2.06 2.06-.94-2.06-.94-.94-2.06-.94 2.06-2.06.94z\"/><path d=\"M17.41 7.96l-1.37-1.37c-.4-.4-.92-.59-1.43-.59-.52 0-1.04.2-1.43.59L10.3 9.45l-7.72 7.72c-.78.78-.78 2.05 0 2.83L4 21.41c.39.39.9.59 1.41.59.51 0 1.02-.2 1.41-.59l7.78-7.78 2.81-2.81c.8-.78.8-2.07 0-2.86zM5.41 20L4 18.59l7.72-7.72 1.47 1.35L5.41 20z\"/>\n",
       "  </svg>\n",
       "      </button>\n",
       "      \n",
       "  <style>\n",
       "    .colab-df-container {\n",
       "      display:flex;\n",
       "      flex-wrap:wrap;\n",
       "      gap: 12px;\n",
       "    }\n",
       "\n",
       "    .colab-df-convert {\n",
       "      background-color: #E8F0FE;\n",
       "      border: none;\n",
       "      border-radius: 50%;\n",
       "      cursor: pointer;\n",
       "      display: none;\n",
       "      fill: #1967D2;\n",
       "      height: 32px;\n",
       "      padding: 0 0 0 0;\n",
       "      width: 32px;\n",
       "    }\n",
       "\n",
       "    .colab-df-convert:hover {\n",
       "      background-color: #E2EBFA;\n",
       "      box-shadow: 0px 1px 2px rgba(60, 64, 67, 0.3), 0px 1px 3px 1px rgba(60, 64, 67, 0.15);\n",
       "      fill: #174EA6;\n",
       "    }\n",
       "\n",
       "    [theme=dark] .colab-df-convert {\n",
       "      background-color: #3B4455;\n",
       "      fill: #D2E3FC;\n",
       "    }\n",
       "\n",
       "    [theme=dark] .colab-df-convert:hover {\n",
       "      background-color: #434B5C;\n",
       "      box-shadow: 0px 1px 3px 1px rgba(0, 0, 0, 0.15);\n",
       "      filter: drop-shadow(0px 1px 2px rgba(0, 0, 0, 0.3));\n",
       "      fill: #FFFFFF;\n",
       "    }\n",
       "  </style>\n",
       "\n",
       "      <script>\n",
       "        const buttonEl =\n",
       "          document.querySelector('#df-ae1522cc-988e-4634-89e5-d91f78a78d9e button.colab-df-convert');\n",
       "        buttonEl.style.display =\n",
       "          google.colab.kernel.accessAllowed ? 'block' : 'none';\n",
       "\n",
       "        async function convertToInteractive(key) {\n",
       "          const element = document.querySelector('#df-ae1522cc-988e-4634-89e5-d91f78a78d9e');\n",
       "          const dataTable =\n",
       "            await google.colab.kernel.invokeFunction('convertToInteractive',\n",
       "                                                     [key], {});\n",
       "          if (!dataTable) return;\n",
       "\n",
       "          const docLinkHtml = 'Like what you see? Visit the ' +\n",
       "            '<a target=\"_blank\" href=https://colab.research.google.com/notebooks/data_table.ipynb>data table notebook</a>'\n",
       "            + ' to learn more about interactive tables.';\n",
       "          element.innerHTML = '';\n",
       "          dataTable['output_type'] = 'display_data';\n",
       "          await google.colab.output.renderOutput(dataTable, element);\n",
       "          const docLink = document.createElement('div');\n",
       "          docLink.innerHTML = docLinkHtml;\n",
       "          element.appendChild(docLink);\n",
       "        }\n",
       "      </script>\n",
       "    </div>\n",
       "  </div>\n",
       "  "
      ],
      "text/plain": [
       "      Unnamed: 0  ...    target\n",
       "4197         326  ...    column\n",
       "3840         106  ...  district\n",
       "\n",
       "[2 rows x 7 columns]"
      ]
     },
     "execution_count": 3,
     "metadata": {},
     "output_type": "execute_result"
    }
   ],
   "source": [
    "df.head(2)"
   ]
  },
  {
   "cell_type": "code",
   "execution_count": null,
   "metadata": {
    "id": "T4tGN8Gnvjul"
   },
   "outputs": [],
   "source": [
    "df = df[['stop_clean_body','target']] "
   ]
  },
  {
   "cell_type": "code",
   "execution_count": null,
   "metadata": {
    "id": "Me3AouPNvjsO"
   },
   "outputs": [],
   "source": [
    "from gensim.models import Doc2Vec\n",
    "from gensim.models.doc2vec import TaggedDocument"
   ]
  },
  {
   "cell_type": "code",
   "execution_count": null,
   "metadata": {
    "id": "TUFFvDbIvjpW"
   },
   "outputs": [],
   "source": [
    "def label_sentences(corpus, label_type):\n",
    "  labeled = []\n",
    "  for i,v in enumerate(corpus):\n",
    "    label = label_type + '_' +str(i)\n",
    "    labeled.append(TaggedDocument(v.split(),[label]))\n",
    "  return labeled\n"
   ]
  },
  {
   "cell_type": "code",
   "execution_count": null,
   "metadata": {
    "id": "SA66Dxtrvjmg"
   },
   "outputs": [],
   "source": [
    "X_train, X_test, y_train, y_test = train_test_split(df.stop_clean_body, df.target, random_state= 0 , test_size = 0.2)  "
   ]
  },
  {
   "cell_type": "code",
   "execution_count": null,
   "metadata": {
    "colab": {
     "base_uri": "https://localhost:8080/"
    },
    "id": "o8g_v49qvjj0",
    "outputId": "e0cd1302-45c6-4a26-bbeb-69753367edf3"
   },
   "outputs": [
    {
     "data": {
      "text/plain": [
       "((7072,), (1768,))"
      ]
     },
     "execution_count": 8,
     "metadata": {},
     "output_type": "execute_result"
    }
   ],
   "source": [
    "X_train.shape, X_test.shape"
   ]
  },
  {
   "cell_type": "code",
   "execution_count": null,
   "metadata": {
    "id": "2k9D39eIvjg9"
   },
   "outputs": [],
   "source": [
    "X_train = label_sentences(X_train, 'Train')\n",
    "X_test = label_sentences(X_test, 'Test')"
   ]
  },
  {
   "cell_type": "code",
   "execution_count": null,
   "metadata": {
    "colab": {
     "base_uri": "https://localhost:8080/"
    },
    "id": "1qyVDw0Lyrr9",
    "outputId": "4c35020e-6e35-478a-de67-ed163508cb2e"
   },
   "outputs": [
    {
     "data": {
      "text/plain": [
       "7072"
      ]
     },
     "execution_count": 10,
     "metadata": {},
     "output_type": "execute_result"
    }
   ],
   "source": [
    "len(X_train )"
   ]
  },
  {
   "cell_type": "code",
   "execution_count": null,
   "metadata": {
    "id": "LpBJKTKIvjeF"
   },
   "outputs": [],
   "source": [
    "all_data = X_train + X_test"
   ]
  },
  {
   "cell_type": "code",
   "execution_count": null,
   "metadata": {
    "colab": {
     "base_uri": "https://localhost:8080/"
    },
    "id": "lr3YViqVvjSv",
    "outputId": "368886d3-b20f-4d44-ebde-ebbede042e72"
   },
   "outputs": [
    {
     "name": "stderr",
     "output_type": "stream",
     "text": [
      "100%|██████████| 8840/8840 [00:00<00:00, 761144.81it/s]\n",
      "100%|██████████| 8840/8840 [00:00<00:00, 1081296.22it/s]\n",
      "100%|██████████| 8840/8840 [00:00<00:00, 1735113.83it/s]\n",
      "100%|██████████| 8840/8840 [00:00<00:00, 1131450.94it/s]\n",
      "100%|██████████| 8840/8840 [00:00<00:00, 815377.20it/s]\n",
      "100%|██████████| 8840/8840 [00:00<00:00, 846019.43it/s]\n",
      "100%|██████████| 8840/8840 [00:00<00:00, 1141939.92it/s]\n",
      "100%|██████████| 8840/8840 [00:00<00:00, 817498.56it/s]\n",
      "100%|██████████| 8840/8840 [00:00<00:00, 878638.06it/s]\n",
      "100%|██████████| 8840/8840 [00:00<00:00, 1341060.74it/s]\n",
      "100%|██████████| 8840/8840 [00:00<00:00, 1131761.77it/s]\n",
      "100%|██████████| 8840/8840 [00:00<00:00, 981747.22it/s]\n",
      "100%|██████████| 8840/8840 [00:00<00:00, 1044617.33it/s]\n",
      "100%|██████████| 8840/8840 [00:00<00:00, 1094349.26it/s]\n",
      "100%|██████████| 8840/8840 [00:00<00:00, 1014741.71it/s]\n",
      "100%|██████████| 8840/8840 [00:00<00:00, 1640023.33it/s]\n",
      "100%|██████████| 8840/8840 [00:00<00:00, 1763838.42it/s]\n",
      "100%|██████████| 8840/8840 [00:00<00:00, 1599691.40it/s]\n",
      "100%|██████████| 8840/8840 [00:00<00:00, 1676128.90it/s]\n",
      "100%|██████████| 8840/8840 [00:00<00:00, 1074652.12it/s]\n",
      "100%|██████████| 8840/8840 [00:00<00:00, 1709908.11it/s]\n",
      "100%|██████████| 8840/8840 [00:00<00:00, 1739264.82it/s]\n",
      "100%|██████████| 8840/8840 [00:00<00:00, 990851.08it/s]\n",
      "100%|██████████| 8840/8840 [00:00<00:00, 951025.92it/s]\n",
      "100%|██████████| 8840/8840 [00:00<00:00, 1583973.32it/s]\n",
      "100%|██████████| 8840/8840 [00:00<00:00, 1785841.80it/s]\n",
      "100%|██████████| 8840/8840 [00:00<00:00, 1014131.11it/s]\n",
      "100%|██████████| 8840/8840 [00:00<00:00, 1581136.35it/s]\n",
      "100%|██████████| 8840/8840 [00:00<00:00, 1554292.49it/s]\n",
      "100%|██████████| 8840/8840 [00:00<00:00, 1667310.34it/s]\n",
      "100%|██████████| 8840/8840 [00:00<00:00, 1142678.97it/s]\n",
      "100%|██████████| 8840/8840 [00:00<00:00, 1189835.29it/s]\n",
      "100%|██████████| 8840/8840 [00:00<00:00, 930033.55it/s]\n",
      "100%|██████████| 8840/8840 [00:00<00:00, 1311786.57it/s]\n",
      "100%|██████████| 8840/8840 [00:00<00:00, 917945.32it/s]\n",
      "100%|██████████| 8840/8840 [00:00<00:00, 1799798.43it/s]\n",
      "100%|██████████| 8840/8840 [00:00<00:00, 892104.50it/s]\n",
      "100%|██████████| 8840/8840 [00:00<00:00, 1836800.13it/s]\n",
      "100%|██████████| 8840/8840 [00:00<00:00, 777618.91it/s]\n",
      "100%|██████████| 8840/8840 [00:00<00:00, 547182.71it/s]\n",
      "100%|██████████| 8840/8840 [00:00<00:00, 1672877.07it/s]\n",
      "100%|██████████| 8840/8840 [00:00<00:00, 792359.01it/s]\n",
      "100%|██████████| 8840/8840 [00:00<00:00, 1007079.54it/s]\n",
      "100%|██████████| 8840/8840 [00:00<00:00, 1739672.85it/s]\n",
      "100%|██████████| 8840/8840 [00:00<00:00, 1275285.39it/s]\n",
      "100%|██████████| 8840/8840 [00:00<00:00, 1670841.66it/s]\n",
      "100%|██████████| 8840/8840 [00:00<00:00, 439064.12it/s]\n",
      "100%|██████████| 8840/8840 [00:00<00:00, 742220.95it/s]\n",
      "100%|██████████| 8840/8840 [00:00<00:00, 887492.16it/s]\n",
      "100%|██████████| 8840/8840 [00:00<00:00, 1074589.83it/s]\n",
      "100%|██████████| 8840/8840 [00:00<00:00, 975111.70it/s]\n"
     ]
    }
   ],
   "source": [
    "#################### Doc2VecDesign #####################\n",
    "import multiprocessing\n",
    "cores = multiprocessing.cpu_count()\n",
    "from sklearn import utils\n",
    "model_dbow = Doc2Vec(dm=0,vector_size = 300, negative = 5, min_count =1, alpha = 0.065, min_alpha = 0.065,workers=cores)\n",
    "model_dbow.build_vocab([x for x in tqdm(all_data)])\n",
    "for epoch in range(50):\n",
    "    model_dbow.train(utils.shuffle([x for x in tqdm(all_data)]), total_examples=len(all_data), epochs=1)\n",
    "    model_dbow.alpha -= 0.002\n",
    "    model_dbow.min_alpha = model_dbow.alpha "
   ]
  },
  {
   "cell_type": "code",
   "execution_count": null,
   "metadata": {
    "id": "2F4tRhyw4lYo"
   },
   "outputs": [],
   "source": [
    "from gensim.test.utils import get_tmpfile\n",
    "fname = get_tmpfile(\"/content/drive/MyDrive/colab/SavedModel/WithOutStopDoc2VecModel\")\n",
    "model_dbow.save(fname)"
   ]
  },
  {
   "cell_type": "code",
   "execution_count": null,
   "metadata": {
    "id": "mk25WEb34u6n"
   },
   "outputs": [],
   "source": [
    "# from gensim.models import Doc2Vec\n",
    "# model_dbow = Doc2Vec.load('/content/drive/MyDrive/colab/SavedModel/WithOutStopDoc2VecModel')"
   ]
  },
  {
   "cell_type": "code",
   "execution_count": null,
   "metadata": {
    "id": "yCjcjTG_1KC_"
   },
   "outputs": [],
   "source": [
    "import numpy as np\n",
    "\n",
    "def get_vectors(model,corpus_size,vectors_size,vectors_type):\n",
    "    vectors = np.zeros((corpus_size,vectors_size))\n",
    "    for i in range(0,corpus_size):\n",
    "      prefix = vectors_type + '_' + str(i)\n",
    "      vectors[i] = model.docvecs[prefix]\n",
    "    return vectors"
   ]
  },
  {
   "cell_type": "code",
   "execution_count": null,
   "metadata": {
    "id": "oH9s2AbD1J6T"
   },
   "outputs": [],
   "source": [
    "train_vectors_dbow = get_vectors(model_dbow,len(X_train), 300, \"Train\")\n",
    "test_vectors_dbow = get_vectors(model_dbow,len(X_test), 300, \"Test\")"
   ]
  },
  {
   "cell_type": "code",
   "execution_count": null,
   "metadata": {
    "colab": {
     "base_uri": "https://localhost:8080/"
    },
    "id": "HQ1whbu52nCd",
    "outputId": "3c068825-fecc-446e-d140-ddb7df2d1b69"
   },
   "outputs": [
    {
     "data": {
      "text/plain": [
       "7072"
      ]
     },
     "execution_count": 17,
     "metadata": {},
     "output_type": "execute_result"
    }
   ],
   "source": [
    "len(X_train)"
   ]
  },
  {
   "cell_type": "code",
   "execution_count": null,
   "metadata": {
    "colab": {
     "base_uri": "https://localhost:8080/"
    },
    "id": "q79_h0I66pBL",
    "outputId": "5162cb3f-15bb-4f78-e24d-8abadcf6744e"
   },
   "outputs": [
    {
     "name": "stdout",
     "output_type": "stream",
     "text": [
      "################### Doc2vec Logistic Regression ####################\n",
      "Validation accuracy 82.41%\n",
      "               precision    recall  f1-score   support\n",
      "\n",
      "         asia       0.95      0.86      0.90        85\n",
      "   bangladesh       0.41      0.33      0.37       103\n",
      "     business       0.83      0.80      0.81       108\n",
      "       column       0.95      0.97      0.96       102\n",
      "      cricket       0.90      0.89      0.89       108\n",
      "        crime       0.72      0.64      0.68       118\n",
      "     district       0.74      0.88      0.81       111\n",
      "  durporobash       0.93      0.97      0.95        98\n",
      "    education       0.93      0.88      0.90        85\n",
      "entertainment       0.87      0.91      0.89       102\n",
      "     football       0.88      0.75      0.81       122\n",
      "        india       0.96      0.97      0.96       110\n",
      "         life       0.74      0.75      0.74       106\n",
      "     politics       0.74      0.79      0.76       102\n",
      " science-tech       0.87      0.94      0.90        90\n",
      "       sports       0.75      0.79      0.77       108\n",
      "        world       0.85      0.94      0.89       110\n",
      "\n",
      "     accuracy                           0.82      1768\n",
      "    macro avg       0.82      0.83      0.82      1768\n",
      " weighted avg       0.82      0.82      0.82      1768\n",
      "\n"
     ]
    },
    {
     "name": "stderr",
     "output_type": "stream",
     "text": [
      "/usr/local/lib/python3.7/dist-packages/sklearn/linear_model/_logistic.py:818: ConvergenceWarning: lbfgs failed to converge (status=1):\n",
      "STOP: TOTAL NO. of ITERATIONS REACHED LIMIT.\n",
      "\n",
      "Increase the number of iterations (max_iter) or scale the data as shown in:\n",
      "    https://scikit-learn.org/stable/modules/preprocessing.html\n",
      "Please also refer to the documentation for alternative solver options:\n",
      "    https://scikit-learn.org/stable/modules/linear_model.html#logistic-regression\n",
      "  extra_warning_msg=_LOGISTIC_SOLVER_CONVERGENCE_MSG,\n"
     ]
    }
   ],
   "source": [
    "print('################### Doc2vec Logistic Regression ####################')\n",
    "from sklearn.metrics import accuracy_score, f1_score,classification_report\n",
    "model = LogisticRegression()\n",
    "model = model.fit(train_vectors_dbow, y_train)\n",
    "pred = model.predict(test_vectors_dbow)\n",
    "print('Validation accuracy {:.2f}%'.format(accuracy_score(pred, y_test)*100))\n",
    "print(classification_report(y_test,pred))"
   ]
  },
  {
   "cell_type": "code",
   "execution_count": null,
   "metadata": {
    "id": "4oPVJSPN-AWW"
   },
   "outputs": [],
   "source": [
    ""
   ]
  },
  {
   "cell_type": "code",
   "execution_count": null,
   "metadata": {
    "colab": {
     "base_uri": "https://localhost:8080/"
    },
    "id": "JUNYNPHT73cd",
    "outputId": "0aa5f826-b853-4735-9799-f049b2f9db2c"
   },
   "outputs": [
    {
     "name": "stdout",
     "output_type": "stream",
     "text": [
      "################### Doc2vec SGD Classifier ####################\n",
      "Validation accuracy 78.17%\n",
      "               precision    recall  f1-score   support\n",
      "\n",
      "         asia       0.89      0.84      0.86        85\n",
      "   bangladesh       0.38      0.31      0.34       103\n",
      "     business       0.87      0.69      0.77       108\n",
      "       column       0.86      1.00      0.92       102\n",
      "      cricket       0.90      0.85      0.88       108\n",
      "        crime       0.68      0.58      0.63       118\n",
      "     district       0.64      0.86      0.73       111\n",
      "  durporobash       0.88      0.94      0.91        98\n",
      "    education       0.90      0.88      0.89        85\n",
      "entertainment       0.91      0.84      0.87       102\n",
      "     football       0.82      0.80      0.80       122\n",
      "        india       0.88      0.99      0.93       110\n",
      "         life       0.80      0.56      0.66       106\n",
      "     politics       0.78      0.74      0.76       102\n",
      " science-tech       0.77      0.94      0.85        90\n",
      "       sports       0.71      0.62      0.66       108\n",
      "        world       0.70      0.92      0.79       110\n",
      "\n",
      "     accuracy                           0.78      1768\n",
      "    macro avg       0.79      0.79      0.78      1768\n",
      " weighted avg       0.78      0.78      0.78      1768\n",
      "\n"
     ]
    }
   ],
   "source": [
    "print('################### Doc2vec SGD Classifier ####################')\n",
    "from sklearn.metrics import accuracy_score, f1_score,classification_report\n",
    "from sklearn.linear_model import SGDClassifier\n",
    "model = SGDClassifier(max_iter=1000, tol=1e-3,n_jobs=2,penalty=\"l2\")\n",
    "model = model.fit(train_vectors_dbow, y_train)\n",
    "pred = model.predict(test_vectors_dbow)\n",
    "print('Validation accuracy {:.2f}%'.format(accuracy_score(pred, y_test)*100))\n",
    "print(classification_report(y_test,pred)) "
   ]
  },
  {
   "cell_type": "code",
   "execution_count": null,
   "metadata": {
    "id": "RNkrLNg18vh_"
   },
   "outputs": [],
   "source": [
    ""
   ]
  }
 ],
 "metadata": {
  "colab": {
   "name": "Doc2Vec.ipynb",
   "provenance": []
  },
  "kernelspec": {
   "name": "python3",
   "display_name": "Python 3"
  },
  "language_info": {
   "name": "python"
  }
 },
 "nbformat": 4,
 "nbformat_minor": 0
}
