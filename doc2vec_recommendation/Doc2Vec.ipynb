{
 "cells": [
  {
   "cell_type": "code",
   "execution_count": 1,
   "metadata": {
    "id": "rqUE6h3-vZJ0"
   },
   "outputs": [
    {
     "name": "stderr",
     "output_type": "stream",
     "text": [
      "C:\\Users\\Mehedi\\AppData\\Local\\Programs\\Python\\Python36\\lib\\importlib\\_bootstrap.py:219: RuntimeWarning: numpy.ufunc size changed, may indicate binary incompatibility. Expected 192 from C header, got 216 from PyObject\n",
      "  return f(*args, **kwds)\n",
      "C:\\Users\\Mehedi\\AppData\\Local\\Programs\\Python\\Python36\\lib\\importlib\\_bootstrap.py:219: RuntimeWarning: numpy.ufunc size changed, may indicate binary incompatibility. Expected 192 from C header, got 216 from PyObject\n",
      "  return f(*args, **kwds)\n"
     ]
    }
   ],
   "source": [
    "import pandas as pd\n",
    "import numpy as np\n",
    "from tqdm import tqdm\n",
    "tqdm.pandas(desc=\"progress-bar\")\n",
    "from gensim.models import Doc2Vec\n",
    "from sklearn import utils\n",
    "from sklearn.model_selection import train_test_split\n",
    "import gensim\n",
    "from sklearn.linear_model import LogisticRegression\n",
    "from gensim.models.doc2vec import TaggedDocument\n",
    "import re\n",
    "import seaborn as sns\n",
    "import matplotlib.pyplot as plt"
   ]
  },
  {
   "cell_type": "code",
   "execution_count": 2,
   "metadata": {
    "colab": {
     "base_uri": "https://localhost:8080/"
    },
    "id": "TaFMiCOnvjw1",
    "outputId": "f2efafb7-f6ce-4f6e-904e-a03cab808b82"
   },
   "outputs": [
    {
     "data": {
      "text/plain": [
       "Index(['Unnamed: 0', 'tags', 'headline', 'url', 'clean_body',\n",
       "       'stop_clean_body', 'target'],\n",
       "      dtype='object')"
      ]
     },
     "execution_count": 2,
     "metadata": {},
     "output_type": "execute_result"
    }
   ],
   "source": [
    "df = pd.read_excel(\"../database/FinalTrainAbleDataset.xlsx\",engine='openpyxl').sample(frac=1)\n",
    "df.columns"
   ]
  },
  {
   "cell_type": "code",
   "execution_count": 3,
   "metadata": {
    "colab": {
     "base_uri": "https://localhost:8080/",
     "height": 208
    },
    "id": "zkFZZns_5lad",
    "outputId": "e82f0ebd-3d05-4aad-c07e-112bdaacaaff"
   },
   "outputs": [
    {
     "data": {
      "text/html": [
       "<div>\n",
       "<style scoped>\n",
       "    .dataframe tbody tr th:only-of-type {\n",
       "        vertical-align: middle;\n",
       "    }\n",
       "\n",
       "    .dataframe tbody tr th {\n",
       "        vertical-align: top;\n",
       "    }\n",
       "\n",
       "    .dataframe thead th {\n",
       "        text-align: right;\n",
       "    }\n",
       "</style>\n",
       "<table border=\"1\" class=\"dataframe\">\n",
       "  <thead>\n",
       "    <tr style=\"text-align: right;\">\n",
       "      <th></th>\n",
       "      <th>Unnamed: 0</th>\n",
       "      <th>tags</th>\n",
       "      <th>headline</th>\n",
       "      <th>url</th>\n",
       "      <th>clean_body</th>\n",
       "      <th>stop_clean_body</th>\n",
       "      <th>target</th>\n",
       "    </tr>\n",
       "  </thead>\n",
       "  <tbody>\n",
       "    <tr>\n",
       "      <th>2122</th>\n",
       "      <td>288</td>\n",
       "      <td>['আমার চট্টগ্রাম']</td>\n",
       "      <td>পাহাড়ি ছাত্র পরিষদ ও যুব সমিতির সম্মেলন</td>\n",
       "      <td>https://www.prothomalo.com/bangladesh/district...</td>\n",
       "      <td>রাঙামাটির বাঘাইছড়ি উপজেলায় জনসংহতি সমিতির এ...</td>\n",
       "      <td>রাঙামাটির বাঘাইছড়ি উপজেলায় জনসংহতি সমিতির এম...</td>\n",
       "      <td>district</td>\n",
       "    </tr>\n",
       "    <tr>\n",
       "      <th>5826</th>\n",
       "      <td>333</td>\n",
       "      <td>['মতামত', 'আলী রীয়াজ', 'বিবিধ', 'লেখকের কলাম']</td>\n",
       "      <td>কেন এই নিষ্ক্রিয়তা, সমবেদনাহীনতা?</td>\n",
       "      <td>https://www.prothomalo.com/opinion/column/কেন-...</td>\n",
       "      <td>আমরা পুলিশ ও প্রক্টরকে ঘটনা জানালেও তাঁরা কেউ...</td>\n",
       "      <td>পুলিশ প্রক্টরকে ঘটনা জানালেও যথাসময়ে আসেননি ছ...</td>\n",
       "      <td>column</td>\n",
       "    </tr>\n",
       "  </tbody>\n",
       "</table>\n",
       "</div>"
      ],
      "text/plain": [
       "      Unnamed: 0                                            tags  \\\n",
       "2122         288                              ['আমার চট্টগ্রাম']   \n",
       "5826         333  ['মতামত', 'আলী রীয়াজ', 'বিবিধ', 'লেখকের কলাম']   \n",
       "\n",
       "                                      headline  \\\n",
       "2122  পাহাড়ি ছাত্র পরিষদ ও যুব সমিতির সম্মেলন   \n",
       "5826         কেন এই নিষ্ক্রিয়তা, সমবেদনাহীনতা?   \n",
       "\n",
       "                                                    url  \\\n",
       "2122  https://www.prothomalo.com/bangladesh/district...   \n",
       "5826  https://www.prothomalo.com/opinion/column/কেন-...   \n",
       "\n",
       "                                             clean_body  \\\n",
       "2122   রাঙামাটির বাঘাইছড়ি উপজেলায় জনসংহতি সমিতির এ...   \n",
       "5826   আমরা পুলিশ ও প্রক্টরকে ঘটনা জানালেও তাঁরা কেউ...   \n",
       "\n",
       "                                        stop_clean_body    target  \n",
       "2122  রাঙামাটির বাঘাইছড়ি উপজেলায় জনসংহতি সমিতির এম...  district  \n",
       "5826  পুলিশ প্রক্টরকে ঘটনা জানালেও যথাসময়ে আসেননি ছ...    column  "
      ]
     },
     "execution_count": 3,
     "metadata": {},
     "output_type": "execute_result"
    }
   ],
   "source": [
    "df.head(2)"
   ]
  },
  {
   "cell_type": "code",
   "execution_count": 4,
   "metadata": {
    "id": "T4tGN8Gnvjul"
   },
   "outputs": [],
   "source": [
    "df = df[['stop_clean_body','target']] "
   ]
  },
  {
   "cell_type": "code",
   "execution_count": null,
   "metadata": {
    "id": "Me3AouPNvjsO"
   },
   "outputs": [],
   "source": []
  },
  {
   "cell_type": "code",
   "execution_count": 24,
   "metadata": {
    "id": "TUFFvDbIvjpW"
   },
   "outputs": [],
   "source": [
    "def label_sentences(corpus, label_type):\n",
    "    labeled = []\n",
    "    for i,v in enumerate(corpus):\n",
    "        label = label_type + '_' +str(i)\n",
    "        labeled.append(TaggedDocument(v.split(),[label]))\n",
    "    return labeled"
   ]
  },
  {
   "cell_type": "code",
   "execution_count": 25,
   "metadata": {
    "id": "SA66Dxtrvjmg"
   },
   "outputs": [],
   "source": [
    "X_train, X_test, y_train, y_test = train_test_split(df.stop_clean_body, df.target, random_state= 0 , test_size = 0.2)  "
   ]
  },
  {
   "cell_type": "code",
   "execution_count": 26,
   "metadata": {},
   "outputs": [
    {
     "data": {
      "text/plain": [
       "'প্রিয় শিক্ষার্থী ইংরেজি ২য় পত্রের বাকি অংশ ছাপা আগামীকালশিক্ষক ঢাকা পাবলিক স্কুল অ্যান্ড কলেজ ঢাকা'"
      ]
     },
     "execution_count": 26,
     "metadata": {},
     "output_type": "execute_result"
    }
   ],
   "source": [
    "X_train[0]"
   ]
  },
  {
   "cell_type": "code",
   "execution_count": 27,
   "metadata": {
    "colab": {
     "base_uri": "https://localhost:8080/"
    },
    "id": "o8g_v49qvjj0",
    "outputId": "e0cd1302-45c6-4a26-bbeb-69753367edf3"
   },
   "outputs": [
    {
     "data": {
      "text/plain": [
       "((7072,), (1768,))"
      ]
     },
     "execution_count": 27,
     "metadata": {},
     "output_type": "execute_result"
    }
   ],
   "source": [
    "X_train.shape, X_test.shape"
   ]
  },
  {
   "cell_type": "code",
   "execution_count": 28,
   "metadata": {
    "id": "2k9D39eIvjg9"
   },
   "outputs": [],
   "source": [
    "X_train = label_sentences(X_train, 'Train')\n",
    "X_test = label_sentences(X_test, 'Test')"
   ]
  },
  {
   "cell_type": "code",
   "execution_count": 49,
   "metadata": {},
   "outputs": [
    {
     "data": {
      "text/plain": [
       "TaggedDocument(words=['গরমধোঁয়াওঠা', 'ভাত', 'খেয়ে', 'মন', 'ভরে', 'বিজ্ঞানীরা', 'বলছেন', 'ভিন্ন', 'কথা', 'শ্রীলঙ্কার', 'একদল', 'গবেষক', 'দাবি', 'ফ্রিজে', 'ঠান্ডা', 'ভাতে', 'ক্যালরির', 'পরিমাণ', 'কম', 'দাবিকে', 'সমর্থন', 'ব্রিটিশ', 'নিউট্রিশন', 'সোসাইটি', 'আমেরিকান', 'কেমিক্যাল', 'সোসাইটিব্যাখ্যাটা', 'ভাত', 'যেকোনো', 'শস্যজাতীয়', 'খাবারে', 'শ্বেতসার', 'শর্করাজাতীয়', 'উপাদান', 'ঠান্ডা', 'দ্রবণীয়', 'অ্যামাইলোজ', 'অণুতে', 'হাইড্রোজেন', 'বন্ধন', 'তৈরি', 'দানাদার', 'ওঠে', 'তুলনামূলক', 'কম', 'দ্রবণীয়', 'শ্বেতসারে', 'পরিণত', 'কম', 'দ্রবণীয়', 'শ্বেতসার', 'রক্তে', 'কম', 'শোষিত', 'রক্তের', 'শর্করা', 'কম', 'বাড়ায়', 'যুক্তরাজ্যের', 'বিজ্ঞানীরা', 'প্রমাণ', 'দেখিয়েছেন', 'গরম', 'পাস্তার', 'নুডলস', 'জাতীয়', 'ঠান্ডা', 'পাস্তায়', 'ক্যালরি', 'কম', 'শ্রীলঙ্কার', 'গবেষকেরা', 'বলছেন', 'সামান্য', 'নারকেল', 'তেলে', 'সেদ্ধ', 'ভাত', 'কমপক্ষে', '১২', 'ঘণ্টা', 'রেফ্রিজারেটরে', 'ঠান্ডা', 'ভাত', 'খেলে', '৬০', 'শতাংশ', 'কম', 'ক্যালরি', 'খাওয়া', 'সম্ভব', 'বাঙালির', 'গরম', 'গরম', 'ভাতের', 'স্বাদ', 'উপেক্ষা', 'সম্ভব', 'হবেসূত্র', 'বিবিসি'], tags=['Train_0'])"
      ]
     },
     "execution_count": 49,
     "metadata": {},
     "output_type": "execute_result"
    }
   ],
   "source": [
    "X_train[0]"
   ]
  },
  {
   "cell_type": "code",
   "execution_count": 33,
   "metadata": {
    "colab": {
     "base_uri": "https://localhost:8080/"
    },
    "id": "1qyVDw0Lyrr9",
    "outputId": "4c35020e-6e35-478a-de67-ed163508cb2e"
   },
   "outputs": [
    {
     "data": {
      "text/plain": [
       "7072"
      ]
     },
     "execution_count": 33,
     "metadata": {},
     "output_type": "execute_result"
    }
   ],
   "source": [
    "len(X_train )"
   ]
  },
  {
   "cell_type": "code",
   "execution_count": 34,
   "metadata": {
    "id": "LpBJKTKIvjeF"
   },
   "outputs": [],
   "source": [
    "all_data = X_train + X_test"
   ]
  },
  {
   "cell_type": "code",
   "execution_count": null,
   "metadata": {},
   "outputs": [],
   "source": []
  },
  {
   "cell_type": "code",
   "execution_count": 37,
   "metadata": {},
   "outputs": [
    {
     "name": "stdout",
     "output_type": "stream",
     "text": [
      "number of cores:  11\n"
     ]
    }
   ],
   "source": [
    "import multiprocessing\n",
    "cores = multiprocessing.cpu_count() - 1\n",
    "print('number of cores: ', cores) "
   ]
  },
  {
   "cell_type": "code",
   "execution_count": 45,
   "metadata": {
    "colab": {
     "base_uri": "https://localhost:8080/"
    },
    "id": "lr3YViqVvjSv",
    "outputId": "368886d3-b20f-4d44-ebde-ebbede042e72"
   },
   "outputs": [
    {
     "name": "stderr",
     "output_type": "stream",
     "text": [
      "100%|█████████████████████████████████████████████████████████████████████████| 8840/8840 [00:00<00:00, 4435125.28it/s]\n",
      "100%|█████████████████████████████████████████████████████████████████████████| 8840/8840 [00:00<00:00, 4411904.73it/s]\n",
      "100%|█████████████████████████████████████████████████████████████████████████| 8840/8840 [00:00<00:00, 4424012.33it/s]\n",
      "100%|█████████████████████████████████████████████████████████████████████████| 8840/8840 [00:00<00:00, 2956750.19it/s]\n",
      "100%|█████████████████████████████████████████████████████████████████████████| 8840/8840 [00:00<00:00, 2956278.69it/s]\n",
      "100%|█████████████████████████████████████████████████████████████████████████| 8840/8840 [00:00<00:00, 4425596.49it/s]\n",
      "100%|█████████████████████████████████████████████████████████████████████████| 8840/8840 [00:00<00:00, 2960291.21it/s]\n",
      "100%|█████████████████████████████████████████████████████████████████████████| 8840/8840 [00:00<00:00, 4430355.76it/s]\n",
      "100%|█████████████████████████████████████████████████████████████████████████| 8840/8840 [00:00<00:00, 2956043.00it/s]\n",
      "100%|█████████████████████████████████████████████████████████████████████████| 8840/8840 [00:00<00:00, 2950867.28it/s]\n",
      "100%|█████████████████████████████████████████████████████████████████████████| 8840/8840 [00:00<00:00, 2952747.26it/s]\n",
      "100%|█████████████████████████████████████████████████████████████████████████| 8840/8840 [00:00<00:00, 4424540.26it/s]\n",
      "100%|█████████████████████████████████████████████████████████████████████████| 8840/8840 [00:00<00:00, 2957693.63it/s]\n",
      "100%|█████████████████████████████████████████████████████████████████████████| 8840/8840 [00:00<00:00, 4426653.22it/s]\n",
      "100%|█████████████████████████████████████████████████████████████████████████| 8840/8840 [00:00<00:00, 4428768.20it/s]\n",
      "100%|█████████████████████████████████████████████████████████████████████████| 8840/8840 [00:00<00:00, 4425596.49it/s]\n",
      "100%|█████████████████████████████████████████████████████████████████████████| 8840/8840 [00:00<00:00, 4425596.49it/s]\n",
      "100%|█████████████████████████████████████████████████████████████████████████| 8840/8840 [00:00<00:00, 4434064.50it/s]\n",
      "100%|█████████████████████████████████████████████████████████████████████████| 8840/8840 [00:00<00:00, 2956750.19it/s]\n",
      "100%|█████████████████████████████████████████████████████████████████████████| 8840/8840 [00:00<00:00, 2956514.42it/s]\n",
      "100%|█████████████████████████████████████████████████████████████████████████| 8840/8840 [00:00<00:00, 2795991.81it/s]\n",
      "100%|█████████████████████████████████████████████████████████████████████████| 8840/8840 [00:00<00:00, 2958165.58it/s]\n",
      "100%|█████████████████████████████████████████████████████████████████████████| 8840/8840 [00:00<00:00, 4434064.50it/s]\n",
      "100%|█████████████████████████████████████████████████████████████████████████| 8840/8840 [00:00<00:00, 4426124.79it/s]\n",
      "100%|█████████████████████████████████████████████████████████████████████████| 8840/8840 [00:00<00:00, 2954394.21it/s]\n",
      "100%|█████████████████████████████████████████████████████████████████████████| 8840/8840 [00:00<00:00, 4434594.83it/s]\n",
      "100%|█████████████████████████████████████████████████████████████████████████| 8840/8840 [00:00<00:00, 4433534.30it/s]\n",
      "100%|█████████████████████████████████████████████████████████████████████████| 8840/8840 [00:00<00:00, 4425596.49it/s]\n",
      "100%|█████████████████████████████████████████████████████████████████████████| 8840/8840 [00:00<00:00, 2953452.87it/s]\n",
      "100%|█████████████████████████████████████████████████████████████████████████| 8840/8840 [00:00<00:00, 4426124.79it/s]\n",
      "100%|█████████████████████████████████████████████████████████████████████████| 8840/8840 [00:00<00:00, 2956985.99it/s]\n",
      "100%|█████████████████████████████████████████████████████████████████████████| 8840/8840 [00:00<00:00, 4422956.86it/s]\n",
      "100%|█████████████████████████████████████████████████████████████████████████| 8840/8840 [00:00<00:00, 2952982.43it/s]\n",
      "100%|█████████████████████████████████████████████████████████████████████████| 8840/8840 [00:00<00:00, 2955100.61it/s]\n",
      "100%|█████████████████████████████████████████████████████████████████████████| 8840/8840 [00:00<00:00, 4425596.49it/s]\n",
      "100%|█████████████████████████████████████████████████████████████████████████| 8840/8840 [00:00<00:00, 4439373.49it/s]\n",
      "100%|█████████████████████████████████████████████████████████████████████████| 8840/8840 [00:00<00:00, 2953452.87it/s]\n",
      "100%|█████████████████████████████████████████████████████████████████████████| 8840/8840 [00:00<00:00, 4425596.49it/s]\n",
      "100%|█████████████████████████████████████████████████████████████████████████| 8840/8840 [00:00<00:00, 2957221.83it/s]\n",
      "100%|█████████████████████████████████████████████████████████████████████████| 8840/8840 [00:00<00:00, 2957457.71it/s]\n",
      "100%|█████████████████████████████████████████████████████████████████████████| 8840/8840 [00:00<00:00, 2952747.26it/s]\n",
      "100%|█████████████████████████████████████████████████████████████████████████| 8840/8840 [00:00<00:00, 4423484.53it/s]\n",
      "100%|█████████████████████████████████████████████████████████████████████████| 8840/8840 [00:00<00:00, 4425596.49it/s]\n",
      "100%|█████████████████████████████████████████████████████████████████████████| 8840/8840 [00:00<00:00, 2955571.73it/s]\n",
      "100%|█████████████████████████████████████████████████████████████████████████| 8840/8840 [00:00<00:00, 4425068.31it/s]\n",
      "100%|█████████████████████████████████████████████████████████████████████████| 8840/8840 [00:00<00:00, 4426124.79it/s]\n",
      "100%|█████████████████████████████████████████████████████████████████████████| 8840/8840 [00:00<00:00, 4425068.31it/s]\n",
      "100%|█████████████████████████████████████████████████████████████████████████| 8840/8840 [00:00<00:00, 2953217.63it/s]\n",
      "100%|█████████████████████████████████████████████████████████████████████████| 8840/8840 [00:00<00:00, 4425596.49it/s]\n",
      "100%|█████████████████████████████████████████████████████████████████████████| 8840/8840 [00:00<00:00, 2959346.11it/s]\n",
      "100%|█████████████████████████████████████████████████████████████████████████| 8840/8840 [00:00<00:00, 2956985.99it/s]\n"
     ]
    }
   ],
   "source": [
    "#################### Doc2VecDesign #####################\n",
    "model_dbow = Doc2Vec(dm=0,vector_size = 300, negative = 5, min_count = 1, alpha = 0.065, min_alpha = 0.065,workers=11)\n",
    "model_dbow.build_vocab([x for x in tqdm(all_data)])\n",
    "for epoch in range(50):\n",
    "    model_dbow.train(utils.shuffle([x for x in tqdm(all_data)]), total_examples=len(all_data), epochs=1)\n",
    "    model_dbow.alpha -= 0.002\n",
    "    model_dbow.min_alpha = model_dbow.alpha "
   ]
  },
  {
   "cell_type": "code",
   "execution_count": null,
   "metadata": {},
   "outputs": [],
   "source": []
  },
  {
   "cell_type": "code",
   "execution_count": null,
   "metadata": {
    "id": "2F4tRhyw4lYo"
   },
   "outputs": [],
   "source": [
    "# from gensim.test.utils import get_tmpfile\n",
    "# fname = get_tmpfile(\"/content/drive/MyDrive/colab/SavedModel/WithOutStopDoc2VecModel\")\n",
    "# model_dbow.save(fname)"
   ]
  },
  {
   "cell_type": "code",
   "execution_count": null,
   "metadata": {
    "id": "mk25WEb34u6n"
   },
   "outputs": [],
   "source": [
    "# from gensim.models import Doc2Vec\n",
    "# model_dbow = Doc2Vec.load('/content/drive/MyDrive/colab/SavedModel/WithOutStopDoc2VecModel')"
   ]
  },
  {
   "cell_type": "code",
   "execution_count": 54,
   "metadata": {
    "id": "yCjcjTG_1KC_"
   },
   "outputs": [],
   "source": [
    "import numpy as np\n",
    "def get_vectors(model,corpus_size,vectors_size,vectors_type):\n",
    "    vectors = np.zeros((corpus_size, vectors_size))\n",
    "    for i in range(0,corpus_size):\n",
    "        prefix = vectors_type + '_' + str(i)\n",
    "        vectors[i] = model.dv[prefix]\n",
    "    return vectors "
   ]
  },
  {
   "cell_type": "code",
   "execution_count": null,
   "metadata": {},
   "outputs": [],
   "source": []
  },
  {
   "cell_type": "code",
   "execution_count": 55,
   "metadata": {
    "id": "oH9s2AbD1J6T"
   },
   "outputs": [],
   "source": [
    "train_vectors_dbow = get_vectors(model_dbow,len(X_train), 300, \"Train\")\n",
    "test_vectors_dbow = get_vectors(model_dbow,len(X_test), 300, \"Test\")"
   ]
  },
  {
   "cell_type": "code",
   "execution_count": 58,
   "metadata": {
    "colab": {
     "base_uri": "https://localhost:8080/"
    },
    "id": "HQ1whbu52nCd",
    "outputId": "3c068825-fecc-446e-d140-ddb7df2d1b69"
   },
   "outputs": [
    {
     "data": {
      "text/plain": [
       "(7072, 1768)"
      ]
     },
     "execution_count": 58,
     "metadata": {},
     "output_type": "execute_result"
    }
   ],
   "source": [
    "len(train_vectors_dbow), len(test_vectors_dbow)"
   ]
  },
  {
   "cell_type": "code",
   "execution_count": null,
   "metadata": {},
   "outputs": [],
   "source": []
  },
  {
   "cell_type": "code",
   "execution_count": 59,
   "metadata": {
    "colab": {
     "base_uri": "https://localhost:8080/"
    },
    "id": "q79_h0I66pBL",
    "outputId": "5162cb3f-15bb-4f78-e24d-8abadcf6744e"
   },
   "outputs": [
    {
     "name": "stdout",
     "output_type": "stream",
     "text": [
      "################### Doc2vec Logistic Regression ####################\n",
      "Validation accuracy 84.79%\n",
      "               precision    recall  f1-score   support\n",
      "\n",
      "         asia       0.95      0.91      0.93        92\n",
      "   bangladesh       0.52      0.40      0.45       106\n",
      "     business       0.75      0.79      0.77        95\n",
      "       column       0.90      0.98      0.94       113\n",
      "      cricket       0.95      0.87      0.91       105\n",
      "        crime       0.73      0.76      0.75       104\n",
      "     district       0.77      0.92      0.84       100\n",
      "  durporobash       0.94      0.96      0.95       105\n",
      "    education       0.95      0.90      0.93       115\n",
      "entertainment       0.88      0.88      0.88       104\n",
      "     football       0.91      0.83      0.87       119\n",
      "        india       0.95      0.96      0.96       106\n",
      "         life       0.78      0.81      0.79       105\n",
      "     politics       0.83      0.78      0.80        99\n",
      " science-tech       0.87      0.85      0.86       100\n",
      "       sports       0.78      0.88      0.82        96\n",
      "        world       0.89      0.92      0.91       104\n",
      "\n",
      "     accuracy                           0.85      1768\n",
      "    macro avg       0.84      0.85      0.84      1768\n",
      " weighted avg       0.85      0.85      0.85      1768\n",
      "\n"
     ]
    },
    {
     "name": "stderr",
     "output_type": "stream",
     "text": [
      "C:\\Users\\Mehedi\\PycharmProjects\\BanglaNewsPaperRecommendationSystem\\newsVenv\\lib\\site-packages\\sklearn\\linear_model\\_logistic.py:765: ConvergenceWarning: lbfgs failed to converge (status=1):\n",
      "STOP: TOTAL NO. of ITERATIONS REACHED LIMIT.\n",
      "\n",
      "Increase the number of iterations (max_iter) or scale the data as shown in:\n",
      "    https://scikit-learn.org/stable/modules/preprocessing.html\n",
      "Please also refer to the documentation for alternative solver options:\n",
      "    https://scikit-learn.org/stable/modules/linear_model.html#logistic-regression\n",
      "  extra_warning_msg=_LOGISTIC_SOLVER_CONVERGENCE_MSG)\n"
     ]
    }
   ],
   "source": [
    "print('################### Doc2vec Logistic Regression ####################')\n",
    "from sklearn.metrics import accuracy_score, f1_score,classification_report\n",
    "model = LogisticRegression()\n",
    "model = model.fit(train_vectors_dbow, y_train)\n",
    "pred = model.predict(test_vectors_dbow)\n",
    "print('Validation accuracy {:.2f}%'.format(accuracy_score(pred, y_test)*100))\n",
    "print(classification_report(y_test,pred))"
   ]
  },
  {
   "cell_type": "code",
   "execution_count": null,
   "metadata": {
    "id": "4oPVJSPN-AWW"
   },
   "outputs": [],
   "source": []
  },
  {
   "cell_type": "code",
   "execution_count": 60,
   "metadata": {
    "colab": {
     "base_uri": "https://localhost:8080/"
    },
    "id": "JUNYNPHT73cd",
    "outputId": "0aa5f826-b853-4735-9799-f049b2f9db2c"
   },
   "outputs": [
    {
     "name": "stdout",
     "output_type": "stream",
     "text": [
      "################### Doc2vec SGD Classifier ####################\n",
      "Validation accuracy 80.43%\n",
      "               precision    recall  f1-score   support\n",
      "\n",
      "         asia       0.75      0.89      0.82        92\n",
      "   bangladesh       0.55      0.38      0.45       106\n",
      "     business       0.66      0.84      0.74        95\n",
      "       column       0.89      0.96      0.92       113\n",
      "      cricket       0.89      0.82      0.85       105\n",
      "        crime       0.77      0.70      0.73       104\n",
      "     district       0.73      0.90      0.81       100\n",
      "  durporobash       0.83      0.97      0.89       105\n",
      "    education       0.94      0.90      0.92       115\n",
      "entertainment       0.91      0.76      0.83       104\n",
      "     football       0.89      0.82      0.85       119\n",
      "        india       0.94      0.96      0.95       106\n",
      "         life       0.60      0.63      0.61       105\n",
      "     politics       0.83      0.76      0.79        99\n",
      " science-tech       0.91      0.81      0.86       100\n",
      "       sports       0.73      0.72      0.73        96\n",
      "        world       0.84      0.85      0.84       104\n",
      "\n",
      "     accuracy                           0.80      1768\n",
      "    macro avg       0.80      0.80      0.80      1768\n",
      " weighted avg       0.81      0.80      0.80      1768\n",
      "\n"
     ]
    }
   ],
   "source": [
    "print('################### Doc2vec SGD Classifier ####################')\n",
    "from sklearn.metrics import accuracy_score, f1_score,classification_report\n",
    "from sklearn.linear_model import SGDClassifier\n",
    "model = SGDClassifier(max_iter=1000, tol=1e-3,n_jobs=2,penalty=\"l2\")\n",
    "model = model.fit(train_vectors_dbow, y_train)\n",
    "pred = model.predict(test_vectors_dbow)\n",
    "print('Validation accuracy {:.2f}%'.format(accuracy_score(pred, y_test)*100))\n",
    "print(classification_report(y_test,pred)) "
   ]
  },
  {
   "cell_type": "code",
   "execution_count": null,
   "metadata": {
    "id": "RNkrLNg18vh_"
   },
   "outputs": [],
   "source": []
  },
  {
   "cell_type": "code",
   "execution_count": 6,
   "metadata": {},
   "outputs": [
    {
     "name": "stdout",
     "output_type": "stream",
     "text": [
      "0 5\n",
      "1 6\n",
      "2 7\n",
      "3 8\n"
     ]
    }
   ],
   "source": [
    "# for i, v in enumerate([5,6,7,8]):\n",
    "#     print(i , v)"
   ]
  },
  {
   "cell_type": "code",
   "execution_count": 46,
   "metadata": {},
   "outputs": [],
   "source": [
    "vectors = np.zeros((810,))"
   ]
  },
  {
   "cell_type": "code",
   "execution_count": 53,
   "metadata": {},
   "outputs": [],
   "source": [
    "vectors[0] = [1,2,3,4,5,6,7,8]"
   ]
  },
  {
   "cell_type": "code",
   "execution_count": 51,
   "metadata": {},
   "outputs": [
    {
     "data": {
      "text/plain": [
       "array([[1., 2., 3., 4., 5., 6., 7., 8.],\n",
       "       [0., 0., 0., 0., 0., 0., 0., 0.],\n",
       "       [0., 0., 0., 0., 0., 0., 0., 0.],\n",
       "       [0., 0., 0., 0., 0., 0., 0., 0.],\n",
       "       [0., 0., 0., 0., 0., 0., 0., 0.],\n",
       "       [0., 0., 0., 0., 0., 0., 0., 0.],\n",
       "       [0., 0., 0., 0., 0., 0., 0., 0.],\n",
       "       [0., 0., 0., 0., 0., 0., 0., 0.],\n",
       "       [0., 0., 0., 0., 0., 0., 0., 0.],\n",
       "       [0., 0., 0., 0., 0., 0., 0., 0.]])"
      ]
     },
     "execution_count": 51,
     "metadata": {},
     "output_type": "execute_result"
    }
   ],
   "source": [
    "vectors"
   ]
  }
 ],
 "metadata": {
  "colab": {
   "name": "Doc2Vec.ipynb",
   "provenance": []
  },
  "kernelspec": {
   "display_name": "newsVenv",
   "language": "python",
   "name": "newsvenv"
  },
  "language_info": {
   "codemirror_mode": {
    "name": "ipython",
    "version": 3
   },
   "file_extension": ".py",
   "mimetype": "text/x-python",
   "name": "python",
   "nbconvert_exporter": "python",
   "pygments_lexer": "ipython3",
   "version": "3.6.8"
  }
 },
 "nbformat": 4,
 "nbformat_minor": 1
}
