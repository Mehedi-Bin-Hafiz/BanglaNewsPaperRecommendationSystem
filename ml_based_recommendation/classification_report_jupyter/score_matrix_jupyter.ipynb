{
 "cells": [
  {
   "cell_type": "code",
   "execution_count": 1,
   "id": "2d3b3d12",
   "metadata": {},
   "outputs": [
    {
     "name": "stderr",
     "output_type": "stream",
     "text": [
      "C:\\Users\\Mehedi\\AppData\\Local\\Programs\\Python\\Python36\\lib\\importlib\\_bootstrap.py:219: RuntimeWarning: numpy.ufunc size changed, may indicate binary incompatibility. Expected 192 from C header, got 216 from PyObject\n",
      "  return f(*args, **kwds)\n"
     ]
    }
   ],
   "source": [
    "\n",
    "import pandas as pd\n",
    "from sklearn.pipeline import Pipeline\n",
    "from sklearn.feature_extraction.text import TfidfTransformer\n",
    "from sklearn.feature_extraction.text import CountVectorizer, TfidfVectorizer\n",
    "from sklearn.ensemble import RandomForestClassifier\n",
    "from sklearn.naive_bayes import MultinomialNB\n",
    "from sklearn import metrics\n",
    "from sklearn.model_selection import train_test_split\n",
    "from sklearn import preprocessing\n",
    "from sklearn.linear_model import SGDClassifier\n",
    "from sklearn.ensemble import AdaBoostClassifier\n",
    "from xgboost import XGBRFClassifier\n",
    "from sklearn.linear_model import LogisticRegression, LogisticRegressionCV\n",
    "from sklearn.neighbors import KNeighborsClassifier\n",
    "from sklearn.svm import SVC\n",
    "from sklearn.metrics import accuracy_score,classification_report\n",
    "from sklearn.metrics import recall_score\n",
    "from sklearn.metrics import f1_score\n",
    "from sklearn.metrics import precision_score\n",
    "from sklearn.metrics import confusion_matrix"
   ]
  },
  {
   "cell_type": "code",
   "execution_count": 2,
   "id": "53bb461d",
   "metadata": {},
   "outputs": [],
   "source": [
    "df = pd.read_excel(\"../../database/FinalTrainAbleDataset.xlsx\",engine='openpyxl')\n",
    "\n",
    "df.head(5)\n",
    "x = df.stop_clean_body.values.astype('U')\n",
    "y = df['target'].values\n"
   ]
  },
  {
   "cell_type": "code",
   "execution_count": 3,
   "id": "2acd3601",
   "metadata": {},
   "outputs": [
    {
     "name": "stdout",
     "output_type": "stream",
     "text": [
      "\n",
      "########## Random Forest Algorithm ###########\n",
      "test size=30, FScore = 87.80 %\n",
      "test size=30, RScore = 87.73 %\n",
      "test size=30, pScore = 88.46 %\n"
     ]
    }
   ],
   "source": [
    "print(\"\\n########## Random Forest Algorithm ###########\")\n",
    "RandomPipeLine = Pipeline([('tfidf', TfidfVectorizer(analyzer='word',ngram_range=(1,3))),\n",
    "                  ('RandomCLf', RandomForestClassifier(n_estimators=100)) ])\n",
    "\n",
    "X_train, X_test, y_train, y_test=train_test_split(x, y,test_size=0.20, random_state=0)\n",
    "RandomPipeLine.fit(X_train,y_train)\n",
    "y_pred=RandomPipeLine.predict(X_test)\n",
    "score=f1_score(y_test, y_pred, average='weighted')\n",
    "print(\"test size=30, FScore = {0:.2f}\".format(100*score),\"%\")\n",
    "rscore=recall_score(y_test, y_pred, average='weighted')\n",
    "print(\"test size=30, RScore = {0:.2f}\".format(100*rscore),\"%\")\n",
    "pscore = precision_score(y_test, y_pred, average='weighted')\n",
    "print(\"test size=30, pScore = {0:.2f}\".format(100*pscore),\"%\")"
   ]
  },
  {
   "cell_type": "code",
   "execution_count": 4,
   "id": "bf3b0492",
   "metadata": {},
   "outputs": [
    {
     "name": "stdout",
     "output_type": "stream",
     "text": [
      "######### Multi ############\n",
      "test size=30, FScore = 81.25 %\n",
      "test size=30, RScore = 81.73 %\n",
      "test size=30, pScore = 88.12 %\n"
     ]
    }
   ],
   "source": [
    "print('######### Multi ############')\n",
    "MultiPipeLine = Pipeline([('tfidf', TfidfVectorizer(analyzer='word',ngram_range=(1,3))),\n",
    "                  ('Mulclf', MultinomialNB()) ])\n",
    "\n",
    "X_train,X_test,y_train,y_test=train_test_split(x,y,test_size=0.20, random_state=0)\n",
    "MultiPipeLine.fit(X_train, y_train)\n",
    "y_pred = MultiPipeLine.predict(X_test)\n",
    "score=f1_score(y_test, y_pred, average='weighted')\n",
    "print(\"test size=30, FScore = {0:.2f}\".format(100*score),\"%\")\n",
    "rscore=recall_score(y_test, y_pred, average='weighted')\n",
    "print(\"test size=30, RScore = {0:.2f}\".format(100*rscore),\"%\")\n",
    "pscore = precision_score(y_test, y_pred, average='weighted')\n",
    "print(\"test size=30, pScore = {0:.2f}\".format(100*pscore),\"%\")"
   ]
  },
  {
   "cell_type": "code",
   "execution_count": 5,
   "id": "5d23dc01",
   "metadata": {},
   "outputs": [
    {
     "name": "stdout",
     "output_type": "stream",
     "text": [
      "########### SVC ############\n",
      "test size=30, FScore = 89.68 %\n",
      "test size=30, RScore = 89.20 %\n",
      "test size=30, pScore = 90.62 %\n"
     ]
    }
   ],
   "source": [
    "print('########### SVC ############')\n",
    "SVCPipeLine = Pipeline([('tfidf', TfidfVectorizer(analyzer='word',ngram_range=(1,3))),\n",
    "                  ('SVC', SVC()) ])\n",
    "\n",
    "X_train,X_test,y_train,y_test=train_test_split(x,y,test_size=0.20, random_state=0)\n",
    "SVCPipeLine.fit(X_train, y_train)\n",
    "y_pred = SVCPipeLine.predict(X_test)\n",
    "score=f1_score(y_test, y_pred, average='weighted')\n",
    "print(\"test size=30, FScore = {0:.2f}\".format(100*score),\"%\")\n",
    "rscore=recall_score(y_test, y_pred, average='weighted')\n",
    "print(\"test size=30, RScore = {0:.2f}\".format(100*rscore),\"%\")\n",
    "pscore = precision_score(y_test, y_pred, average='weighted')\n",
    "print(\"test size=30, pScore = {0:.2f}\".format(100*pscore),\"%\")"
   ]
  },
  {
   "cell_type": "code",
   "execution_count": 6,
   "id": "850c3b11",
   "metadata": {},
   "outputs": [
    {
     "name": "stdout",
     "output_type": "stream",
     "text": [
      "########### KNN ############\n",
      "test size=30, FScore = 72.66 %\n",
      "test size=30, RScore = 73.36 %\n",
      "test size=30, pScore = 74.40 %\n"
     ]
    }
   ],
   "source": [
    "print('########### KNN ############')\n",
    "KNNPipeLine = Pipeline([('tfidf', TfidfVectorizer(analyzer='word',ngram_range=(1,3))),\n",
    "                  ('knn', KNeighborsClassifier()) ])\n",
    "\n",
    "X_train,X_test,y_train,y_test=train_test_split(x,y,test_size=0.20, random_state=0)\n",
    "KNNPipeLine.fit(X_train, y_train)\n",
    "y_pred = KNNPipeLine.predict(X_test)\n",
    "score=f1_score(y_test, y_pred, average='weighted')\n",
    "print(\"test size=30, FScore = {0:.2f}\".format(100*score),\"%\")\n",
    "rscore=recall_score(y_test, y_pred, average='weighted')\n",
    "print(\"test size=30, RScore = {0:.2f}\".format(100*rscore),\"%\")\n",
    "pscore = precision_score(y_test, y_pred, average='weighted')\n",
    "print(\"test size=30, pScore = {0:.2f}\".format(100*pscore),\"%\")"
   ]
  },
  {
   "cell_type": "code",
   "execution_count": 7,
   "id": "44f6b6c4",
   "metadata": {},
   "outputs": [
    {
     "name": "stdout",
     "output_type": "stream",
     "text": [
      "########### SGD ############\n",
      "test size=30, FScore = 89.50 %\n",
      "test size=30, RScore = 90.05 %\n",
      "test size=30, pScore = 90.18 %\n"
     ]
    }
   ],
   "source": [
    "print('########### SGD ############')\n",
    "SGDPipeLine = Pipeline([('tfidf', TfidfVectorizer(analyzer='word',ngram_range=(1,3))),\n",
    "                  ('SGDclf', SGDClassifier(max_iter=1000, tol=1e-3,n_jobs=2,penalty=\"l2\")) ])\n",
    "\n",
    "X_train,X_test,y_train,y_test=train_test_split(x,y,test_size=0.20, random_state=0)\n",
    "SGDPipeLine.fit(X_train, y_train)\n",
    "y_pred = SGDPipeLine.predict(X_test)\n",
    "score=f1_score(y_test, y_pred, average='weighted')\n",
    "print(\"test size=30, FScore = {0:.2f}\".format(100*score),\"%\")\n",
    "rscore=recall_score(y_test, y_pred, average='weighted')\n",
    "print(\"test size=30, RScore = {0:.2f}\".format(100*rscore),\"%\")\n",
    "pscore = precision_score(y_test, y_pred, average='weighted')\n",
    "print(\"test size=30, pScore = {0:.2f}\".format(100*pscore),\"%\")"
   ]
  }
 ],
 "metadata": {
  "kernelspec": {
   "display_name": "newsVenv",
   "language": "python",
   "name": "newsvenv"
  },
  "language_info": {
   "codemirror_mode": {
    "name": "ipython",
    "version": 3
   },
   "file_extension": ".py",
   "mimetype": "text/x-python",
   "name": "python",
   "nbconvert_exporter": "python",
   "pygments_lexer": "ipython3",
   "version": "3.6.8"
  }
 },
 "nbformat": 4,
 "nbformat_minor": 5
}
