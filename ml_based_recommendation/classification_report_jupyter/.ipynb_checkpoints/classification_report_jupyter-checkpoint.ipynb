{
 "cells": [
  {
   "cell_type": "code",
   "execution_count": null,
   "id": "c3cb7375",
   "metadata": {},
   "outputs": [],
   "source": [
    "\n",
    "import pandas as pd\n",
    "from sklearn.pipeline import Pipeline\n",
    "from sklearn.feature_extraction.text import TfidfTransformer\n",
    "from sklearn.feature_extraction.text import CountVectorizer, TfidfVectorizer\n",
    "from sklearn.ensemble import RandomForestClassifier\n",
    "from sklearn.naive_bayes import MultinomialNB\n",
    "from sklearn import metrics\n",
    "from sklearn.model_selection import train_test_split\n",
    "from sklearn import preprocessing\n",
    "from sklearn.linear_model import SGDClassifier\n",
    "from sklearn.ensemble import AdaBoostClassifier\n",
    "from xgboost import XGBRFClassifier\n",
    "from sklearn.linear_model import LogisticRegression, LogisticRegressionCV\n",
    "from sklearn.neighbors import KNeighborsClassifier\n",
    "from sklearn.svm import SVC\n",
    "from sklearn.metrics import accuracy_score,classification_report\n",
    "\n",
    "df = pd.read_excel(\"../../database/FinalTrainAbleDataset.xlsx\")\n",
    "\n",
    "df.head(5)\n",
    "x = df.stop_clean_body.values.astype('U')\n",
    "y = df['target'].values\n",
    "\n",
    "\n",
    "print(\"\\n########## Random Forest Algorithm ###########\")\n",
    "RandomPipeLine = Pipeline([('tfidf', TfidfVectorizer(analyzer='word',ngram_range=(1,3))),\n",
    "                  ('RandomCLf', RandomForestClassifier(n_estimators=100)) ])\n",
    "\n",
    "X_train, X_test, y_train, y_test=train_test_split(x, y,test_size=0.20, random_state=0)\n",
    "RandomPipeLine.fit(X_train,y_train)\n",
    "y_pred=RandomPipeLine.predict(X_test)\n",
    "score=metrics.accuracy_score(y_test, y_pred)\n",
    "print(classification_report(y_test,y_pred))\n",
    "\n"
   ]
  },
  {
   "cell_type": "code",
   "execution_count": null,
   "id": "91d89d46",
   "metadata": {},
   "outputs": [],
   "source": [
    "print('######### Multi ############')\n",
    "MultiPipeLine = Pipeline([('tfidf', TfidfVectorizer(analyzer='word',ngram_range=(1,3))),\n",
    "                  ('Mulclf', MultinomialNB()) ])\n",
    "\n",
    "X_train,X_test,y_train,y_test=train_test_split(x,y,test_size=0.20, random_state=0)\n",
    "MultiPipeLine.fit(X_train, y_train)\n",
    "pred = MultiPipeLine.predict(X_test)\n",
    "score=metrics.accuracy_score(y_test, pred)\n",
    "print(classification_report(y_test,pred))\n"
   ]
  },
  {
   "cell_type": "code",
   "execution_count": null,
   "id": "b5997339",
   "metadata": {},
   "outputs": [],
   "source": [
    "\n",
    "print('########### SVC ############')\n",
    "SVCPipeLine = Pipeline([('tfidf', TfidfVectorizer(analyzer='word',ngram_range=(1,3))),\n",
    "                  ('SVC', SVC()) ])\n",
    "\n",
    "X_train,X_test,y_train,y_test=train_test_split(x,y,test_size=0.20, random_state=0)\n",
    "SVCPipeLine.fit(X_train, y_train)\n",
    "pred = SVCPipeLine.predict(X_test)\n",
    "score=metrics.accuracy_score(y_test, pred)\n",
    "print(classification_report(y_test,pred))\n"
   ]
  },
  {
   "cell_type": "code",
   "execution_count": null,
   "id": "384a2b4d",
   "metadata": {},
   "outputs": [],
   "source": [
    "print('########### KNN ############')\n",
    "KNNPipeLine = Pipeline([('tfidf', TfidfVectorizer(analyzer='word',ngram_range=(1,3))),\n",
    "                  ('KNN', KNeighborsClassifier()) ])\n",
    "\n",
    "X_train,X_test,y_train,y_test=train_test_split(x,y,test_size=0.20, random_state=0)\n",
    "KNNPipeLine.fit(X_train, y_train)\n",
    "pred = KNNPipeLine.predict(X_test)\n",
    "score=metrics.accuracy_score(y_test, pred)\n",
    "print(classification_report(y_test,pred))"
   ]
  },
  {
   "cell_type": "code",
   "execution_count": null,
   "id": "8094fabb",
   "metadata": {},
   "outputs": [],
   "source": [
    "\n",
    "print('########### SGD ############')\n",
    "SGDPipeLine = Pipeline([('tfidf', TfidfVectorizer(analyzer='word',ngram_range=(1,3))),\n",
    "                  ('SGDclf', SGDClassifier(max_iter=1000, tol=1e-3,n_jobs=2,penalty=\"l2\")) ])\n",
    "\n",
    "X_train,X_test,y_train,y_test=train_test_split(x,y,test_size=0.20, random_state=0)\n",
    "SGDPipeLine.fit(X_train, y_train)\n",
    "pred = SGDPipeLine.predict(X_test)\n",
    "score=metrics.accuracy_score(y_test, pred)\n",
    "print(classification_report(y_test,pred))"
   ]
  },
  {
   "cell_type": "code",
   "execution_count": null,
   "id": "49f74807",
   "metadata": {},
   "outputs": [],
   "source": []
  },
  {
   "cell_type": "code",
   "execution_count": null,
   "id": "fb74a72f",
   "metadata": {},
   "outputs": [],
   "source": []
  }
 ],
 "metadata": {
  "kernelspec": {
   "display_name": "Python 3",
   "language": "python",
   "name": "python3"
  },
  "language_info": {
   "codemirror_mode": {
    "name": "ipython",
    "version": 3
   },
   "file_extension": ".py",
   "mimetype": "text/x-python",
   "name": "python",
   "nbconvert_exporter": "python",
   "pygments_lexer": "ipython3",
   "version": "3.6.8"
  }
 },
 "nbformat": 4,
 "nbformat_minor": 5
}
