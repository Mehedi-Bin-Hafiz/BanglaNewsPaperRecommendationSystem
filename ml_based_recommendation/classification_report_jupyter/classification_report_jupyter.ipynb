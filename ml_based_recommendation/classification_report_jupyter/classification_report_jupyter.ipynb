{
 "cells": [
  {
   "cell_type": "code",
   "execution_count": 2,
   "id": "b60cebc5",
   "metadata": {},
   "outputs": [
    {
     "name": "stdout",
     "output_type": "stream",
     "text": [
      "\n",
      "########## Random Forest Algorithm ###########\n",
      "               precision    recall  f1-score   support\n",
      "\n",
      "         asia       0.97      0.88      0.92       107\n",
      "   bangladesh       0.47      0.32      0.38       107\n",
      "     business       0.80      0.86      0.83       107\n",
      "       column       0.99      0.99      0.99       118\n",
      "      cricket       0.83      0.93      0.87       112\n",
      "        crime       0.54      0.82      0.65        90\n",
      "     district       1.00      0.94      0.97        87\n",
      "  durporobash       1.00      0.99      0.99        90\n",
      "    education       0.94      0.96      0.95       107\n",
      "entertainment       0.92      0.92      0.92       103\n",
      "     football       0.88      0.92      0.90        95\n",
      "        india       0.97      0.97      0.97       121\n",
      "         life       0.92      0.73      0.81        96\n",
      "     politics       0.82      0.94      0.88       107\n",
      " science-tech       0.87      0.87      0.87       110\n",
      "       sports       0.95      0.83      0.88       105\n",
      "        world       1.00      0.93      0.97       106\n",
      "\n",
      "     accuracy                           0.87      1768\n",
      "    macro avg       0.87      0.87      0.87      1768\n",
      " weighted avg       0.88      0.87      0.87      1768\n",
      "\n"
     ]
    }
   ],
   "source": [
    "\n",
    "import pandas as pd\n",
    "from sklearn.pipeline import Pipeline\n",
    "from sklearn.feature_extraction.text import TfidfTransformer\n",
    "from sklearn.feature_extraction.text import CountVectorizer, TfidfVectorizer\n",
    "from sklearn.ensemble import RandomForestClassifier\n",
    "from sklearn.naive_bayes import MultinomialNB\n",
    "from sklearn import metrics\n",
    "from sklearn.model_selection import train_test_split\n",
    "from sklearn import preprocessing\n",
    "from sklearn.linear_model import SGDClassifier\n",
    "from sklearn.ensemble import AdaBoostClassifier\n",
    "from xgboost import XGBRFClassifier\n",
    "from sklearn.linear_model import LogisticRegression, LogisticRegressionCV\n",
    "from sklearn.neighbors import KNeighborsClassifier\n",
    "from sklearn.svm import SVC\n",
    "from sklearn.metrics import accuracy_score,classification_report\n",
    "\n",
    "df = pd.read_excel(\"../../database/FinalTrainAbleDataset.xlsx\",engine='openpyxl')\n",
    "\n",
    "df.head(5)\n",
    "x = df.stop_clean_body.values.astype('U')\n",
    "y = df['target'].values\n",
    "\n",
    "\n",
    "print(\"\\n########## Random Forest Algorithm ###########\")\n",
    "RandomPipeLine = Pipeline([('tfidf', TfidfVectorizer(analyzer='word',ngram_range=(1,3))),\n",
    "                  ('RandomCLf', RandomForestClassifier(n_estimators=100)) ])\n",
    "\n",
    "X_train, X_test, y_train, y_test=train_test_split(x, y,test_size=0.20, random_state=0)\n",
    "RandomPipeLine.fit(X_train,y_train)\n",
    "y_pred=RandomPipeLine.predict(X_test)\n",
    "score=metrics.accuracy_score(y_test, y_pred)\n",
    "print(classification_report(y_test,y_pred))\n",
    "\n"
   ]
  },
  {
   "cell_type": "code",
   "execution_count": 3,
   "id": "202f9848",
   "metadata": {},
   "outputs": [
    {
     "name": "stdout",
     "output_type": "stream",
     "text": [
      "######### Multi ############\n",
      "               precision    recall  f1-score   support\n",
      "\n",
      "         asia       0.98      0.93      0.95       107\n",
      "   bangladesh       0.86      0.06      0.11       107\n",
      "     business       0.95      0.81      0.87       107\n",
      "       column       0.38      1.00      0.55       118\n",
      "      cricket       0.91      0.76      0.83       112\n",
      "        crime       0.69      0.74      0.72        90\n",
      "     district       0.71      0.97      0.82        87\n",
      "  durporobash       0.92      1.00      0.96        90\n",
      "    education       0.94      0.91      0.92       107\n",
      "entertainment       0.96      0.89      0.92       103\n",
      "     football       0.94      0.89      0.92        95\n",
      "        india       0.99      0.95      0.97       121\n",
      "         life       0.95      0.56      0.71        96\n",
      "     politics       0.85      0.92      0.88       107\n",
      " science-tech       0.96      0.81      0.88       110\n",
      "       sports       1.00      0.76      0.86       105\n",
      "        world       0.99      0.93      0.96       106\n",
      "\n",
      "     accuracy                           0.82      1768\n",
      "    macro avg       0.88      0.82      0.81      1768\n",
      " weighted avg       0.88      0.82      0.81      1768\n",
      "\n"
     ]
    }
   ],
   "source": [
    "print('######### Multi ############')\n",
    "MultiPipeLine = Pipeline([('tfidf', TfidfVectorizer(analyzer='word',ngram_range=(1,3))),\n",
    "                  ('Mulclf', MultinomialNB()) ])\n",
    "\n",
    "X_train,X_test,y_train,y_test=train_test_split(x,y,test_size=0.20, random_state=0)\n",
    "MultiPipeLine.fit(X_train, y_train)\n",
    "pred = MultiPipeLine.predict(X_test)\n",
    "score=metrics.accuracy_score(y_test, pred)\n",
    "print(classification_report(y_test,pred))\n"
   ]
  },
  {
   "cell_type": "code",
   "execution_count": 4,
   "id": "06f115a4",
   "metadata": {},
   "outputs": [
    {
     "name": "stdout",
     "output_type": "stream",
     "text": [
      "########### SVC ############\n",
      "               precision    recall  f1-score   support\n",
      "\n",
      "         asia       0.96      0.90      0.93       107\n",
      "   bangladesh       0.46      0.55      0.50       107\n",
      "     business       0.92      0.87      0.89       107\n",
      "       column       0.98      0.98      0.98       118\n",
      "      cricket       0.91      0.93      0.92       112\n",
      "        crime       0.60      0.83      0.70        90\n",
      "     district       1.00      0.94      0.97        87\n",
      "  durporobash       1.00      1.00      1.00        90\n",
      "    education       0.96      0.94      0.95       107\n",
      "entertainment       0.97      0.91      0.94       103\n",
      "     football       0.90      0.96      0.93        95\n",
      "        india       1.00      0.93      0.97       121\n",
      "         life       0.88      0.82      0.85        96\n",
      "     politics       0.91      0.94      0.93       107\n",
      " science-tech       0.92      0.90      0.91       110\n",
      "       sports       1.00      0.81      0.89       105\n",
      "        world       1.00      0.93      0.97       106\n",
      "\n",
      "     accuracy                           0.89      1768\n",
      "    macro avg       0.90      0.89      0.90      1768\n",
      " weighted avg       0.91      0.89      0.90      1768\n",
      "\n"
     ]
    }
   ],
   "source": [
    "\n",
    "print('########### SVC ############')\n",
    "SVCPipeLine = Pipeline([('tfidf', TfidfVectorizer(analyzer='word',ngram_range=(1,3))),\n",
    "                  ('SVC', SVC()) ])\n",
    "\n",
    "X_train,X_test,y_train,y_test=train_test_split(x,y,test_size=0.20, random_state=0)\n",
    "SVCPipeLine.fit(X_train, y_train)\n",
    "pred = SVCPipeLine.predict(X_test)\n",
    "score=metrics.accuracy_score(y_test, pred)\n",
    "print(classification_report(y_test,pred))\n"
   ]
  },
  {
   "cell_type": "code",
   "execution_count": 5,
   "id": "861072b2",
   "metadata": {},
   "outputs": [
    {
     "name": "stdout",
     "output_type": "stream",
     "text": [
      "########### KNN ############\n",
      "               precision    recall  f1-score   support\n",
      "\n",
      "         asia       0.82      0.78      0.80       107\n",
      "   bangladesh       0.46      0.26      0.33       107\n",
      "     business       0.72      0.78      0.74       107\n",
      "       column       0.58      0.95      0.72       118\n",
      "      cricket       0.79      0.79      0.79       112\n",
      "        crime       0.67      0.38      0.48        90\n",
      "     district       0.46      0.82      0.59        87\n",
      "  durporobash       0.75      0.89      0.81        90\n",
      "    education       0.86      0.91      0.88       107\n",
      "entertainment       0.86      0.86      0.86       103\n",
      "     football       0.84      0.73      0.78        95\n",
      "        india       0.87      0.86      0.87       121\n",
      "         life       0.64      0.54      0.59        96\n",
      "     politics       0.85      0.79      0.82       107\n",
      " science-tech       0.80      0.74      0.77       110\n",
      "       sports       0.79      0.50      0.61       105\n",
      "        world       0.83      0.85      0.84       106\n",
      "\n",
      "     accuracy                           0.73      1768\n",
      "    macro avg       0.74      0.73      0.72      1768\n",
      " weighted avg       0.74      0.73      0.73      1768\n",
      "\n"
     ]
    }
   ],
   "source": [
    "print('########### KNN ############')\n",
    "KNNPipeLine = Pipeline([('tfidf', TfidfVectorizer(analyzer='word',ngram_range=(1,3))),\n",
    "                  ('KNN', KNeighborsClassifier()) ])\n",
    "\n",
    "X_train,X_test,y_train,y_test=train_test_split(x,y,test_size=0.20, random_state=0)\n",
    "KNNPipeLine.fit(X_train, y_train)\n",
    "pred = KNNPipeLine.predict(X_test)\n",
    "score=metrics.accuracy_score(y_test, pred)\n",
    "print(classification_report(y_test,pred))"
   ]
  },
  {
   "cell_type": "code",
   "execution_count": 6,
   "id": "27bd9531",
   "metadata": {},
   "outputs": [
    {
     "name": "stdout",
     "output_type": "stream",
     "text": [
      "########### SGD ############\n",
      "               precision    recall  f1-score   support\n",
      "\n",
      "         asia       0.94      0.96      0.95       107\n",
      "   bangladesh       0.76      0.39      0.52       107\n",
      "     business       0.89      0.95      0.92       107\n",
      "       column       0.89      0.98      0.93       118\n",
      "      cricket       0.93      0.99      0.96       112\n",
      "        crime       0.63      0.81      0.71        90\n",
      "     district       0.97      0.95      0.96        87\n",
      "  durporobash       0.95      1.00      0.97        90\n",
      "    education       0.94      0.97      0.95       107\n",
      "entertainment       0.93      0.94      0.94       103\n",
      "     football       0.89      0.98      0.93        95\n",
      "        india       0.97      0.97      0.97       121\n",
      "         life       0.90      0.76      0.82        96\n",
      "     politics       0.88      0.97      0.92       107\n",
      " science-tech       0.89      0.93      0.91       110\n",
      "       sports       1.00      0.84      0.91       105\n",
      "        world       0.99      0.94      0.97       106\n",
      "\n",
      "     accuracy                           0.90      1768\n",
      "    macro avg       0.90      0.90      0.90      1768\n",
      " weighted avg       0.91      0.90      0.90      1768\n",
      "\n"
     ]
    }
   ],
   "source": [
    "\n",
    "print('########### SGD ############')\n",
    "SGDPipeLine = Pipeline([('tfidf', TfidfVectorizer(analyzer='word',ngram_range=(1,3))),\n",
    "                  ('SGDclf', SGDClassifier(max_iter=1000, tol=1e-3,n_jobs=2,penalty=\"l2\")) ])\n",
    "\n",
    "X_train,X_test,y_train,y_test=train_test_split(x,y,test_size=0.20, random_state=0)\n",
    "SGDPipeLine.fit(X_train, y_train)\n",
    "pred = SGDPipeLine.predict(X_test)\n",
    "score=metrics.accuracy_score(y_test, pred)\n",
    "print(classification_report(y_test,pred))"
   ]
  },
  {
   "cell_type": "code",
   "execution_count": null,
   "id": "1c0901fa",
   "metadata": {},
   "outputs": [],
   "source": []
  },
  {
   "cell_type": "code",
   "execution_count": null,
   "id": "cc9559f8",
   "metadata": {},
   "outputs": [],
   "source": []
  }
 ],
 "metadata": {
  "kernelspec": {
   "display_name": "Python 3",
   "language": "python",
   "name": "python3"
  },
  "language_info": {
   "codemirror_mode": {
    "name": "ipython",
    "version": 3
   },
   "file_extension": ".py",
   "mimetype": "text/x-python",
   "name": "python",
   "nbconvert_exporter": "python",
   "pygments_lexer": "ipython3",
   "version": "3.6.8"
  }
 },
 "nbformat": 4,
 "nbformat_minor": 5
}
