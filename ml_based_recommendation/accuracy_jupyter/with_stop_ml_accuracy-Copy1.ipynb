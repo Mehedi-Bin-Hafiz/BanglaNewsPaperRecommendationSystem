{
 "cells": [
  {
   "cell_type": "code",
   "execution_count": 1,
   "id": "e870c3a4",
   "metadata": {},
   "outputs": [],
   "source": [
    "\n",
    "import pandas as pd\n",
    "from sklearn.pipeline import Pipeline\n",
    "from sklearn.feature_extraction.text import TfidfTransformer\n",
    "from sklearn.feature_extraction.text import CountVectorizer, TfidfVectorizer\n",
    "from sklearn.ensemble import RandomForestClassifier\n",
    "from sklearn.naive_bayes import MultinomialNB\n",
    "from sklearn import metrics\n",
    "from sklearn.model_selection import train_test_split\n",
    "from sklearn import preprocessing\n",
    "from sklearn.linear_model import SGDClassifier\n",
    "from sklearn.ensemble import AdaBoostClassifier\n",
    "from xgboost import XGBRFClassifier\n",
    "from sklearn.linear_model import LogisticRegression, LogisticRegressionCV\n",
    "from sklearn.neighbors import KNeighborsClassifier\n",
    "from sklearn.svm import SVC\n",
    "\n",
    "df = pd.read_excel(\"../../database/FinalTrainAbleDataset.xlsx\",engine='openpyxl')\n",
    "df.head(5)\n",
    "x = df.clean_body.values.astype('U')\n",
    "y = df['target'].values\n"
   ]
  },
  {
   "cell_type": "code",
   "execution_count": 2,
   "id": "cae9c8bf",
   "metadata": {},
   "outputs": [
    {
     "name": "stdout",
     "output_type": "stream",
     "text": [
      "\n",
      "########## Random Forest Algorithm ###########\n",
      "test size=30, accuracy = 86.71 %\n",
      "test size=40, accuracy = 85.97 %\n",
      "test size=50, accuracy = 86.24 %\n",
      "test size=60, accuracy = 85.81 %\n"
     ]
    }
   ],
   "source": [
    "print(\"\\n########## Random Forest Algorithm ###########\")\n",
    "RandomPipeLine = Pipeline([('tfidf', TfidfVectorizer(analyzer='word',ngram_range=(1,3))),\n",
    "                  ('RandomCLf', RandomForestClassifier(n_estimators=100)) ])\n",
    "\n",
    "X_train, X_test, y_train, y_test=train_test_split(x, y,test_size=0.20, random_state=0)\n",
    "RandomPipeLine.fit(X_train,y_train)\n",
    "y_pred=RandomPipeLine.predict(X_test)\n",
    "print(\"test size=30, accuracy = {0:.2f}\".format(100*metrics.accuracy_score(y_test, y_pred)),\"%\")\n",
    "\n",
    "\n",
    "X_train,X_test,y_train,y_test=train_test_split(x,y,test_size=0.25, random_state=0)\n",
    "RandomPipeLine.fit(X_train,y_train)\n",
    "y_pred=RandomPipeLine.predict(X_test)\n",
    "print(\"test size=40, accuracy = {0:.2f}\".format(100*metrics.accuracy_score(y_test, y_pred)),\"%\")\n",
    "\n",
    "\n",
    "X_train, X_test, y_train, y_test=train_test_split(x, y, test_size=0.30, random_state=0)\n",
    "RandomPipeLine.fit(X_train,y_train)\n",
    "y_pred=RandomPipeLine.predict(X_test)\n",
    "print(\"test size=50, accuracy = {0:.2f}\".format(100*metrics.accuracy_score(y_test, y_pred)),\"%\")\n",
    "\n",
    "\n",
    "X_train, X_test, y_train, y_test=train_test_split(x, y, test_size=0.35, random_state=0)\n",
    "RandomPipeLine.fit(X_train,y_train)\n",
    "y_pred=RandomPipeLine.predict(X_test)\n",
    "print(\"test size=60, accuracy = {0:.2f}\".format(100*metrics.accuracy_score(y_test, y_pred)),\"%\")\n",
    "\n"
   ]
  },
  {
   "cell_type": "code",
   "execution_count": 3,
   "id": "2ea49946",
   "metadata": {},
   "outputs": [
    {
     "name": "stdout",
     "output_type": "stream",
     "text": [
      "######### Multi ############\n",
      "test size=20, accuracy = 78.79 %\n",
      "test size=25, accuracy = 77.69 %\n",
      "test size=30, accuracy = 76.58 %\n",
      "test size=35, accuracy = 75.24 %\n"
     ]
    }
   ],
   "source": [
    "\n",
    "print('######### Multi ############')\n",
    "MultiPipeLine = Pipeline([('tfidf', TfidfVectorizer(analyzer='word',ngram_range=(1,3))),\n",
    "                  ('Mulclf', MultinomialNB()) ])\n",
    "X_train,X_test,y_train,y_test=train_test_split(x,y,test_size=0.20, random_state=0)\n",
    "MultiPipeLine.fit(X_train, y_train)\n",
    "pred = MultiPipeLine.predict(X_test)\n",
    "score=metrics.accuracy_score(y_test, pred)\n",
    "print(\"test size=20, accuracy = {0:.2f}\".format(100*score),\"%\")\n",
    "\n",
    "X_train,X_test,y_train,y_test=train_test_split(x,y,test_size=0.25, random_state=0)\n",
    "MultiPipeLine.fit(X_train, y_train)\n",
    "pred = MultiPipeLine.predict(X_test)\n",
    "score=metrics.accuracy_score(y_test, pred)\n",
    "print(\"test size=25, accuracy = {0:.2f}\".format(100*score),\"%\")\n",
    "\n",
    "X_train,X_test,y_train,y_test=train_test_split(x,y,test_size=0.30, random_state=0)\n",
    "MultiPipeLine.fit(X_train, y_train)\n",
    "pred = MultiPipeLine.predict(X_test)\n",
    "score=metrics.accuracy_score(y_test, pred)\n",
    "print(\"test size=30, accuracy = {0:.2f}\".format(100*score),\"%\")\n",
    "\n",
    "X_train,X_test,y_train,y_test=train_test_split(x,y,test_size=0.35, random_state=0)\n",
    "MultiPipeLine.fit(X_train, y_train)\n",
    "pred = MultiPipeLine.predict(X_test)\n",
    "score=metrics.accuracy_score(y_test, pred)\n",
    "print(\"test size=35, accuracy = {0:.2f}\".format(100*score),\"%\")"
   ]
  },
  {
   "cell_type": "code",
   "execution_count": 4,
   "id": "d1ec3fb1",
   "metadata": {},
   "outputs": [
    {
     "name": "stdout",
     "output_type": "stream",
     "text": [
      "########### SVC ############\n",
      "test size=20, accuracy = 89.03 %\n",
      "test size=25, accuracy = 88.51 %\n",
      "test size=30, accuracy = 87.93 %\n",
      "test size=35, accuracy = 87.46 %\n"
     ]
    }
   ],
   "source": [
    "print('########### SVC ############')\n",
    "SVCPipeLine = Pipeline([('tfidf', TfidfVectorizer(analyzer='word',ngram_range=(1,3))),\n",
    "                  ('SVCclf', SVC()) ])\n",
    "\n",
    "\n",
    "X_train,X_test,y_train,y_test=train_test_split(x,y,test_size=0.20, random_state=0)\n",
    "SVCPipeLine.fit(X_train, y_train)\n",
    "pred = SVCPipeLine.predict(X_test)\n",
    "score=metrics.accuracy_score(y_test, pred)\n",
    "print(\"test size=20, accuracy = {0:.2f}\".format(100*score),\"%\")\n",
    "\n",
    "\n",
    "X_train,X_test,y_train,y_test=train_test_split(x,y,test_size=0.25, random_state=0)\n",
    "SVCPipeLine.fit(X_train, y_train)\n",
    "pred = SVCPipeLine.predict(X_test)\n",
    "score=metrics.accuracy_score(y_test, pred)\n",
    "print(\"test size=25, accuracy = {0:.2f}\".format(100*score),\"%\")\n",
    "\n",
    "X_train,X_test,y_train,y_test=train_test_split(x,y,test_size=0.30, random_state=0)\n",
    "SVCPipeLine.fit(X_train, y_train)\n",
    "pred = SVCPipeLine.predict(X_test)\n",
    "score=metrics.accuracy_score(y_test, pred)\n",
    "print(\"test size=30, accuracy = {0:.2f}\".format(100*score),\"%\")\n",
    "\n",
    "X_train,X_test,y_train,y_test=train_test_split(x,y,test_size=0.35, random_state=0)\n",
    "SVCPipeLine.fit(X_train, y_train)\n",
    "pred = SVCPipeLine.predict(X_test)\n",
    "score=metrics.accuracy_score(y_test, pred)\n",
    "print(\"test size=35, accuracy = {0:.2f}\".format(100*score),\"%\")"
   ]
  },
  {
   "cell_type": "code",
   "execution_count": 5,
   "id": "9106220e",
   "metadata": {},
   "outputs": [
    {
     "name": "stdout",
     "output_type": "stream",
     "text": [
      "########### KNN ############\n",
      "test size=20, accuracy = 72.34 %\n",
      "test size=25, accuracy = 69.50 %\n",
      "test size=30, accuracy = 68.93 %\n",
      "test size=35, accuracy = 66.87 %\n"
     ]
    }
   ],
   "source": [
    "print('########### KNN ############')\n",
    "KNNPipeLine = Pipeline([('tfidf', TfidfVectorizer(analyzer='word',ngram_range=(1,3))),\n",
    "                  ('KNN', KNeighborsClassifier()) ])\n",
    "\n",
    "X_train,X_test,y_train,y_test=train_test_split(x,y,test_size=0.20, random_state=0)\n",
    "KNNPipeLine.fit(X_train, y_train)\n",
    "pred = KNNPipeLine.predict(X_test)\n",
    "score=metrics.accuracy_score(y_test, pred)\n",
    "print(\"test size=20, accuracy = {0:.2f}\".format(100*score),\"%\")\n",
    "\n",
    "X_train,X_test,y_train,y_test=train_test_split(x,y,test_size=0.25, random_state=0)\n",
    "KNNPipeLine.fit(X_train, y_train)\n",
    "pred = KNNPipeLine.predict(X_test)\n",
    "score=metrics.accuracy_score(y_test, pred)\n",
    "print(\"test size=25, accuracy = {0:.2f}\".format(100*score),\"%\")\n",
    "\n",
    "X_train,X_test,y_train,y_test=train_test_split(x,y,test_size=0.30, random_state=0)\n",
    "KNNPipeLine.fit(X_train, y_train)\n",
    "pred = KNNPipeLine.predict(X_test)\n",
    "score=metrics.accuracy_score(y_test, pred)\n",
    "print(\"test size=30, accuracy = {0:.2f}\".format(100*score),\"%\")\n",
    "\n",
    "X_train,X_test,y_train,y_test=train_test_split(x,y,test_size=0.35, random_state=0)\n",
    "KNNPipeLine.fit(X_train, y_train)\n",
    "pred = KNNPipeLine.predict(X_test)\n",
    "score=metrics.accuracy_score(y_test, pred)\n",
    "print(\"test size=35, accuracy = {0:.2f}\".format(100*score),\"%\")"
   ]
  },
  {
   "cell_type": "code",
   "execution_count": 6,
   "id": "aec7d9dc",
   "metadata": {},
   "outputs": [
    {
     "name": "stdout",
     "output_type": "stream",
     "text": [
      "########### SGD ############\n",
      "test size=20, accuracy = 90.38 %\n",
      "test size=25, accuracy = 89.82 %\n",
      "test size=30, accuracy = 89.86 %\n",
      "test size=35, accuracy = 89.20 %\n"
     ]
    }
   ],
   "source": [
    "print('########### SGD ############')\n",
    "SGDPipeLine = Pipeline([('tfidf', TfidfVectorizer(analyzer='word',ngram_range=(1,3))),\n",
    "                  ('SGDclf', SGDClassifier(max_iter=1000, tol=1e-3,n_jobs=2,penalty=\"l2\")) ])\n",
    "\n",
    "X_train,X_test,y_train,y_test=train_test_split(x,y,test_size=0.20, random_state=0)\n",
    "SGDPipeLine.fit(X_train, y_train)\n",
    "pred = SGDPipeLine.predict(X_test)\n",
    "score=metrics.accuracy_score(y_test, pred)\n",
    "print(\"test size=20, accuracy = {0:.2f}\".format(100*score),\"%\")\n",
    "\n",
    "X_train,X_test,y_train,y_test=train_test_split(x,y,test_size=0.25, random_state=0)\n",
    "SGDPipeLine.fit(X_train, y_train)\n",
    "pred = SGDPipeLine.predict(X_test)\n",
    "score=metrics.accuracy_score(y_test, pred)\n",
    "print(\"test size=25, accuracy = {0:.2f}\".format(100*score),\"%\")\n",
    "\n",
    "X_train,X_test,y_train,y_test=train_test_split(x,y,test_size=0.30, random_state=0)\n",
    "SGDPipeLine.fit(X_train, y_train)\n",
    "pred = SGDPipeLine.predict(X_test)\n",
    "score=metrics.accuracy_score(y_test, pred)\n",
    "print(\"test size=30, accuracy = {0:.2f}\".format(100*score),\"%\")\n",
    "\n",
    "X_train,X_test,y_train,y_test=train_test_split(x,y,test_size=0.35, random_state=0)\n",
    "SGDPipeLine.fit(X_train, y_train)\n",
    "pred = SGDPipeLine.predict(X_test)\n",
    "score=metrics.accuracy_score(y_test, pred)\n",
    "print(\"test size=35, accuracy = {0:.2f}\".format(100*score),\"%\")"
   ]
  },
  {
   "cell_type": "code",
   "execution_count": null,
   "id": "19a334e5",
   "metadata": {},
   "outputs": [],
   "source": []
  },
  {
   "cell_type": "code",
   "execution_count": 7,
   "id": "d04d0f3b",
   "metadata": {},
   "outputs": [],
   "source": [
    "#################### save the best model as joblib ######################\n",
    "\n",
    "# import joblib\n",
    "# X_train,X_test,y_train,y_test=train_test_split(x,y,test_size=0.20, random_state=0)\n",
    "# SGDPipeLineFinal = Pipeline([('tfidf', TfidfVectorizer(analyzer='word',ngram_range=(1,3))),\n",
    "#                   ('SGDclf', SGDClassifier(max_iter=1000, tol=1e-3,n_jobs=2,penalty=\"l2\")) ])\n",
    "# SGDPipeLineFinal.fit(X_train, y_train)\n",
    "# pred = SGDPipeLineFinal.predict(X_test)\n",
    "# score=metrics.accuracy_score(y_test, pred)\n",
    "# print(\"test size=20, accuracy = {0:.2f}\".format(100*score),\"%\")\n",
    "# joblib.dump(SGDPipeLineFinal,'/content/drive/MyDrive/colab/SavedModel/WithOutStopSGDbestMLModel')"
   ]
  },
  {
   "cell_type": "code",
   "execution_count": null,
   "id": "f54e6374",
   "metadata": {},
   "outputs": [],
   "source": []
  },
  {
   "cell_type": "code",
   "execution_count": null,
   "id": "9e7c03d3",
   "metadata": {},
   "outputs": [],
   "source": []
  },
  {
   "cell_type": "code",
   "execution_count": null,
   "id": "581caa3c",
   "metadata": {},
   "outputs": [],
   "source": []
  },
  {
   "cell_type": "code",
   "execution_count": null,
   "id": "42526e19",
   "metadata": {},
   "outputs": [],
   "source": []
  },
  {
   "cell_type": "code",
   "execution_count": null,
   "id": "480bda53",
   "metadata": {},
   "outputs": [],
   "source": []
  },
  {
   "cell_type": "code",
   "execution_count": null,
   "id": "f0610ada",
   "metadata": {},
   "outputs": [],
   "source": []
  },
  {
   "cell_type": "code",
   "execution_count": null,
   "id": "d75c2e05",
   "metadata": {},
   "outputs": [],
   "source": []
  },
  {
   "cell_type": "code",
   "execution_count": null,
   "id": "b8e44937",
   "metadata": {},
   "outputs": [],
   "source": []
  }
 ],
 "metadata": {
  "kernelspec": {
   "display_name": "Python 3",
   "language": "python",
   "name": "python3"
  },
  "language_info": {
   "codemirror_mode": {
    "name": "ipython",
    "version": 3
   },
   "file_extension": ".py",
   "mimetype": "text/x-python",
   "name": "python",
   "nbconvert_exporter": "python",
   "pygments_lexer": "ipython3",
   "version": "3.6.8"
  }
 },
 "nbformat": 4,
 "nbformat_minor": 5
}
