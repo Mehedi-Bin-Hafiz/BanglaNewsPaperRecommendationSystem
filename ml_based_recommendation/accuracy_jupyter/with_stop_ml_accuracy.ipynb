{
 "cells": [
  {
   "cell_type": "code",
   "execution_count": 1,
   "metadata": {},
   "outputs": [
    {
     "data": {
      "text/html": [
       "<div>\n",
       "<style scoped>\n",
       "    .dataframe tbody tr th:only-of-type {\n",
       "        vertical-align: middle;\n",
       "    }\n",
       "\n",
       "    .dataframe tbody tr th {\n",
       "        vertical-align: top;\n",
       "    }\n",
       "\n",
       "    .dataframe thead th {\n",
       "        text-align: right;\n",
       "    }\n",
       "</style>\n",
       "<table border=\"1\" class=\"dataframe\">\n",
       "  <thead>\n",
       "    <tr style=\"text-align: right;\">\n",
       "      <th></th>\n",
       "      <th>Unnamed: 0</th>\n",
       "      <th>tags</th>\n",
       "      <th>headline</th>\n",
       "      <th>url</th>\n",
       "      <th>clean_body</th>\n",
       "      <th>stop_clean_body</th>\n",
       "      <th>target</th>\n",
       "    </tr>\n",
       "  </thead>\n",
       "  <tbody>\n",
       "    <tr>\n",
       "      <th>0</th>\n",
       "      <td>41</td>\n",
       "      <td>['পড়াশোনা', 'প্রাথমিক ও মাধ্যমিক শিক্ষা']</td>\n",
       "      <td>ইংরেজি ২য় পত্র</td>\n",
       "      <td>https://www.prothomalo.com/education/ইংরেজি-২য...</td>\n",
       "      <td>প্রিয় শিক্ষার্থী আজ ইংরেজি ২য় পত্রের বাকি অ...</td>\n",
       "      <td>প্রিয় শিক্ষার্থী ইংরেজি ২য় পত্রের বাকি অংশ ছ...</td>\n",
       "      <td>education</td>\n",
       "    </tr>\n",
       "    <tr>\n",
       "      <th>1</th>\n",
       "      <td>8605</td>\n",
       "      <td>['খেলা', 'দেশের ফুটবল']</td>\n",
       "      <td>ঢাকায় শেষ ম্যাচ খেললেন নর্দে</td>\n",
       "      <td>https://www.prothomalo.com/sports/ঢাকায়-শেষ-ম্...</td>\n",
       "      <td>গত এপ্রিলে ট্রায়াল দিয়ে এসেছেন বেলজিয়ামেঢাকায়...</td>\n",
       "      <td>গত এপ্রিলে ট্রায়াল দিয়ে এসেছেন বেলজিয়ামেঢাকায় ...</td>\n",
       "      <td>sports</td>\n",
       "    </tr>\n",
       "    <tr>\n",
       "      <th>2</th>\n",
       "      <td>8328</td>\n",
       "      <td>['বাণিজ্য']</td>\n",
       "      <td>বিসিকের বর্ষা মেলা শুরু হচ্ছে আজ</td>\n",
       "      <td>https://www.prothomalo.com/business/বিসিকের-বর...</td>\n",
       "      <td>বাংলাদেশ ক্ষুদ্র ও কুটির শিল্প করপোরেশনের বিস...</td>\n",
       "      <td>বাংলাদেশ ক্ষুদ্র কুটির শিল্প করপোরেশনের বিসিক ...</td>\n",
       "      <td>business</td>\n",
       "    </tr>\n",
       "    <tr>\n",
       "      <th>3</th>\n",
       "      <td>2</td>\n",
       "      <td>['খেলা', 'বিবিধ']</td>\n",
       "      <td>পাওয়েলের ৯.৮৪ সেকেন্ড</td>\n",
       "      <td>https://www.prothomalo.com/sports/পাওয়েলের-৯.৮...</td>\n",
       "      <td>ট্র্যাকে সবাই উসাইন বোল্টের মূল প্রতিদ্বন্দ্...</td>\n",
       "      <td>ট্র্যাকে সবাই উসাইন বোল্টের মূল প্রতিদ্বন্দ্ব...</td>\n",
       "      <td>sports</td>\n",
       "    </tr>\n",
       "    <tr>\n",
       "      <th>4</th>\n",
       "      <td>93</td>\n",
       "      <td>['আন্তর্জাতিক ক্রিকেট', 'খেলা']</td>\n",
       "      <td>কিশোর ক্রিকেটার</td>\n",
       "      <td>https://www.prothomalo.com/sports/cricket/কিশো...</td>\n",
       "      <td>অঙ্কুরেই শেষ বার্নি গিবসনের ক্যারিয়ার ইংল্যা...</td>\n",
       "      <td>অঙ্কুরেই শেষ বার্নি গিবসনের ক্যারিয়ার ইংল্যান...</td>\n",
       "      <td>cricket</td>\n",
       "    </tr>\n",
       "  </tbody>\n",
       "</table>\n",
       "</div>"
      ],
      "text/plain": [
       "   Unnamed: 0                                       tags  \\\n",
       "0          41  ['পড়াশোনা', 'প্রাথমিক ও মাধ্যমিক শিক্ষা']   \n",
       "1        8605                    ['খেলা', 'দেশের ফুটবল']   \n",
       "2        8328                                ['বাণিজ্য']   \n",
       "3           2                          ['খেলা', 'বিবিধ']   \n",
       "4          93            ['আন্তর্জাতিক ক্রিকেট', 'খেলা']   \n",
       "\n",
       "                           headline  \\\n",
       "0                   ইংরেজি ২য় পত্র   \n",
       "1      ঢাকায় শেষ ম্যাচ খেললেন নর্দে   \n",
       "2  বিসিকের বর্ষা মেলা শুরু হচ্ছে আজ   \n",
       "3             পাওয়েলের ৯.৮৪ সেকেন্ড   \n",
       "4                   কিশোর ক্রিকেটার   \n",
       "\n",
       "                                                 url  \\\n",
       "0  https://www.prothomalo.com/education/ইংরেজি-২য...   \n",
       "1  https://www.prothomalo.com/sports/ঢাকায়-শেষ-ম্...   \n",
       "2  https://www.prothomalo.com/business/বিসিকের-বর...   \n",
       "3  https://www.prothomalo.com/sports/পাওয়েলের-৯.৮...   \n",
       "4  https://www.prothomalo.com/sports/cricket/কিশো...   \n",
       "\n",
       "                                          clean_body  \\\n",
       "0   প্রিয় শিক্ষার্থী আজ ইংরেজি ২য় পত্রের বাকি অ...   \n",
       "1   গত এপ্রিলে ট্রায়াল দিয়ে এসেছেন বেলজিয়ামেঢাকায়...   \n",
       "2   বাংলাদেশ ক্ষুদ্র ও কুটির শিল্প করপোরেশনের বিস...   \n",
       "3   ট্র্যাকে সবাই উসাইন বোল্টের মূল প্রতিদ্বন্দ্...   \n",
       "4   অঙ্কুরেই শেষ বার্নি গিবসনের ক্যারিয়ার ইংল্যা...   \n",
       "\n",
       "                                     stop_clean_body     target  \n",
       "0  প্রিয় শিক্ষার্থী ইংরেজি ২য় পত্রের বাকি অংশ ছ...  education  \n",
       "1  গত এপ্রিলে ট্রায়াল দিয়ে এসেছেন বেলজিয়ামেঢাকায় ...     sports  \n",
       "2  বাংলাদেশ ক্ষুদ্র কুটির শিল্প করপোরেশনের বিসিক ...   business  \n",
       "3  ট্র্যাকে সবাই উসাইন বোল্টের মূল প্রতিদ্বন্দ্ব...     sports  \n",
       "4  অঙ্কুরেই শেষ বার্নি গিবসনের ক্যারিয়ার ইংল্যান...    cricket  "
      ]
     },
     "execution_count": 1,
     "metadata": {},
     "output_type": "execute_result"
    }
   ],
   "source": [
    "\n",
    "import pandas as pd\n",
    "from sklearn.pipeline import Pipeline\n",
    "from sklearn.feature_extraction.text import TfidfTransformer\n",
    "from sklearn.feature_extraction.text import CountVectorizer, TfidfVectorizer\n",
    "from sklearn.ensemble import RandomForestClassifier\n",
    "from sklearn.naive_bayes import MultinomialNB\n",
    "from sklearn import metrics\n",
    "from sklearn.model_selection import train_test_split\n",
    "from sklearn import preprocessing\n",
    "from sklearn.linear_model import SGDClassifier\n",
    "from sklearn.ensemble import AdaBoostClassifier\n",
    "from xgboost import XGBRFClassifier\n",
    "from sklearn.linear_model import LogisticRegression, LogisticRegressionCV\n",
    "from sklearn.neighbors import KNeighborsClassifier\n",
    "from sklearn.svm import SVC\n",
    "\n",
    "df = pd.read_excel(\"../../database/FinalTrainAbleDataset.xlsx\",engine='openpyxl')\n",
    "x = df.clean_body.values.astype('U')\n",
    "y = df['target'].values\n",
    "df.head(5)"
   ]
  },
  {
   "cell_type": "code",
   "execution_count": 5,
   "metadata": {},
   "outputs": [
    {
     "data": {
      "text/plain": [
       "array(['education', 'sports', 'business', ..., 'cricket', 'world', 'life'],\n",
       "      dtype=object)"
      ]
     },
     "execution_count": 5,
     "metadata": {},
     "output_type": "execute_result"
    }
   ],
   "source": [
    "y"
   ]
  },
  {
   "cell_type": "code",
   "execution_count": 2,
   "metadata": {},
   "outputs": [
    {
     "name": "stdout",
     "output_type": "stream",
     "text": [
      "\n",
      "########## Random Forest Algorithm ###########\n",
      "test size=30, accuracy = 86.71 %\n",
      "test size=40, accuracy = 85.97 %\n",
      "test size=50, accuracy = 86.24 %\n",
      "test size=60, accuracy = 85.81 %\n"
     ]
    }
   ],
   "source": [
    "print(\"\\n########## Random Forest Algorithm ###########\")\n",
    "RandomPipeLine = Pipeline([('tfidf', TfidfVectorizer(analyzer='word',ngram_range=(1,3))),\n",
    "                  ('RandomCLf', RandomForestClassifier(n_estimators=100)) ])\n",
    "\n",
    "X_train, X_test, y_train, y_test=train_test_split(x, y,test_size=0.20, random_state=0)\n",
    "RandomPipeLine.fit(X_train,y_train)\n",
    "y_pred = RandomPipeLine.predict(X_test)\n",
    "print(\"test size=20, accuracy = {0:.2f}\".format(100*metrics.accuracy_score(y_test, y_pred)),\"%\")\n",
    "\n",
    "\n",
    "X_train,X_test,y_train,y_test=train_test_split(x,y,test_size=0.25, random_state=0)\n",
    "RandomPipeLine.fit(X_train,y_train)\n",
    "y_pred=RandomPipeLine.predict(X_test)\n",
    "print(\"test size=25, accuracy = {0:.2f}\".format(100*metrics.accuracy_score(y_test, y_pred)),\"%\")\n",
    "\n",
    "\n",
    "X_train, X_test, y_train, y_test=train_test_split(x, y, test_size=0.30, random_state=0)\n",
    "RandomPipeLine.fit(X_train,y_train)\n",
    "y_pred=RandomPipeLine.predict(X_test)\n",
    "print(\"test size=30, accuracy = {0:.2f}\".format(100*metrics.accuracy_score(y_test, y_pred)),\"%\")\n",
    "\n",
    "\n",
    "X_train, X_test, y_train, y_test=train_test_split(x, y, test_size=0.35, random_state=0)\n",
    "RandomPipeLine.fit(X_train,y_train)\n",
    "y_pred=RandomPipeLine.predict(X_test)\n",
    "print(\"test size=35, accuracy = {0:.2f}\".format(100*metrics.accuracy_score(y_test, y_pred)),\"%\")\n",
    "\n"
   ]
  },
  {
   "cell_type": "code",
   "execution_count": 3,
   "metadata": {},
   "outputs": [
    {
     "name": "stdout",
     "output_type": "stream",
     "text": [
      "######### Multi ############\n",
      "test size=20, accuracy = 78.79 %\n",
      "test size=25, accuracy = 77.69 %\n",
      "test size=30, accuracy = 76.58 %\n",
      "test size=35, accuracy = 75.24 %\n"
     ]
    }
   ],
   "source": [
    "\n",
    "print('######### Multi ############')\n",
    "MultiPipeLine = Pipeline([('tfidf', TfidfVectorizer(analyzer='word',ngram_range=(1,3))),\n",
    "                  ('Mulclf', MultinomialNB()) ])\n",
    "X_train,X_test,y_train,y_test=train_test_split(x,y,test_size=0.20, random_state=0)\n",
    "MultiPipeLine.fit(X_train, y_train)\n",
    "pred = MultiPipeLine.predict(X_test)\n",
    "score=metrics.accuracy_score(y_test, pred)\n",
    "print(\"test size=20, accuracy = {0:.2f}\".format(100*score),\"%\")\n",
    "\n",
    "X_train,X_test,y_train,y_test=train_test_split(x,y,test_size=0.25, random_state=0)\n",
    "MultiPipeLine.fit(X_train, y_train)\n",
    "pred = MultiPipeLine.predict(X_test)\n",
    "score=metrics.accuracy_score(y_test, pred)\n",
    "print(\"test size=25, accuracy = {0:.2f}\".format(100*score),\"%\")\n",
    "\n",
    "X_train,X_test,y_train,y_test=train_test_split(x,y,test_size=0.30, random_state=0)\n",
    "MultiPipeLine.fit(X_train, y_train)\n",
    "pred = MultiPipeLine.predict(X_test)\n",
    "score=metrics.accuracy_score(y_test, pred)\n",
    "print(\"test size=30, accuracy = {0:.2f}\".format(100*score),\"%\")\n",
    "\n",
    "X_train,X_test,y_train,y_test=train_test_split(x,y,test_size=0.35, random_state=0)\n",
    "MultiPipeLine.fit(X_train, y_train)\n",
    "pred = MultiPipeLine.predict(X_test)\n",
    "score=metrics.accuracy_score(y_test, pred)\n",
    "print(\"test size=35, accuracy = {0:.2f}\".format(100*score),\"%\")"
   ]
  },
  {
   "cell_type": "code",
   "execution_count": 4,
   "metadata": {},
   "outputs": [
    {
     "name": "stdout",
     "output_type": "stream",
     "text": [
      "########### SVC ############\n",
      "test size=20, accuracy = 89.03 %\n",
      "test size=25, accuracy = 88.51 %\n",
      "test size=30, accuracy = 87.93 %\n",
      "test size=35, accuracy = 87.46 %\n"
     ]
    }
   ],
   "source": [
    "print('########### SVC ############')\n",
    "SVCPipeLine = Pipeline([('tfidf', TfidfVectorizer(analyzer='word',ngram_range=(1,3))),\n",
    "                  ('SVCclf', SVC()) ])\n",
    "\n",
    "\n",
    "X_train,X_test,y_train,y_test=train_test_split(x,y,test_size=0.20, random_state=0)\n",
    "SVCPipeLine.fit(X_train, y_train)\n",
    "pred = SVCPipeLine.predict(X_test)\n",
    "score=metrics.accuracy_score(y_test, pred)\n",
    "print(\"test size=20, accuracy = {0:.2f}\".format(100*score),\"%\")\n",
    "\n",
    "\n",
    "X_train,X_test,y_train,y_test=train_test_split(x,y,test_size=0.25, random_state=0)\n",
    "SVCPipeLine.fit(X_train, y_train)\n",
    "pred = SVCPipeLine.predict(X_test)\n",
    "score=metrics.accuracy_score(y_test, pred)\n",
    "print(\"test size=25, accuracy = {0:.2f}\".format(100*score),\"%\")\n",
    "\n",
    "X_train,X_test,y_train,y_test=train_test_split(x,y,test_size=0.30, random_state=0)\n",
    "SVCPipeLine.fit(X_train, y_train)\n",
    "pred = SVCPipeLine.predict(X_test)\n",
    "score=metrics.accuracy_score(y_test, pred)\n",
    "print(\"test size=30, accuracy = {0:.2f}\".format(100*score),\"%\")\n",
    "\n",
    "X_train,X_test,y_train,y_test=train_test_split(x,y,test_size=0.35, random_state=0)\n",
    "SVCPipeLine.fit(X_train, y_train)\n",
    "pred = SVCPipeLine.predict(X_test)\n",
    "score=metrics.accuracy_score(y_test, pred)\n",
    "print(\"test size=35, accuracy = {0:.2f}\".format(100*score),\"%\")"
   ]
  },
  {
   "cell_type": "code",
   "execution_count": 5,
   "metadata": {},
   "outputs": [
    {
     "name": "stdout",
     "output_type": "stream",
     "text": [
      "########### KNN ############\n",
      "test size=20, accuracy = 72.34 %\n",
      "test size=25, accuracy = 69.50 %\n",
      "test size=30, accuracy = 68.93 %\n",
      "test size=35, accuracy = 66.87 %\n"
     ]
    }
   ],
   "source": [
    "print('########### KNN ############')\n",
    "KNNPipeLine = Pipeline([('tfidf', TfidfVectorizer(analyzer='word',ngram_range=(1,3))),\n",
    "                  ('KNN', KNeighborsClassifier()) ])\n",
    "\n",
    "X_train,X_test,y_train,y_test=train_test_split(x,y,test_size=0.20, random_state=0)\n",
    "KNNPipeLine.fit(X_train, y_train)\n",
    "pred = KNNPipeLine.predict(X_test)\n",
    "score=metrics.accuracy_score(y_test, pred)\n",
    "print(\"test size=20, accuracy = {0:.2f}\".format(100*score),\"%\")\n",
    "\n",
    "X_train,X_test,y_train,y_test=train_test_split(x,y,test_size=0.25, random_state=0)\n",
    "KNNPipeLine.fit(X_train, y_train)\n",
    "pred = KNNPipeLine.predict(X_test)\n",
    "score=metrics.accuracy_score(y_test, pred)\n",
    "print(\"test size=25, accuracy = {0:.2f}\".format(100*score),\"%\")\n",
    "\n",
    "X_train,X_test,y_train,y_test=train_test_split(x,y,test_size=0.30, random_state=0)\n",
    "KNNPipeLine.fit(X_train, y_train)\n",
    "pred = KNNPipeLine.predict(X_test)\n",
    "score=metrics.accuracy_score(y_test, pred)\n",
    "print(\"test size=30, accuracy = {0:.2f}\".format(100*score),\"%\")\n",
    "\n",
    "X_train,X_test,y_train,y_test=train_test_split(x,y,test_size=0.35, random_state=0)\n",
    "KNNPipeLine.fit(X_train, y_train)\n",
    "pred = KNNPipeLine.predict(X_test)\n",
    "score=metrics.accuracy_score(y_test, pred)\n",
    "print(\"test size=35, accuracy = {0:.2f}\".format(100*score),\"%\")"
   ]
  },
  {
   "cell_type": "code",
   "execution_count": 6,
   "metadata": {},
   "outputs": [
    {
     "name": "stdout",
     "output_type": "stream",
     "text": [
      "########### SGD ############\n",
      "test size=20, accuracy = 90.38 %\n",
      "test size=25, accuracy = 89.82 %\n",
      "test size=30, accuracy = 89.86 %\n",
      "test size=35, accuracy = 89.20 %\n"
     ]
    }
   ],
   "source": [
    "print('########### SGD ############')\n",
    "SGDPipeLine = Pipeline([('tfidf', TfidfVectorizer(analyzer='word',ngram_range=(1,3))),\n",
    "                  ('SGDclf', SGDClassifier(max_iter=1000, tol=1e-3,n_jobs=2,penalty=\"l2\")) ])\n",
    "\n",
    "X_train,X_test,y_train,y_test=train_test_split(x,y,test_size=0.20, random_state=0)\n",
    "SGDPipeLine.fit(X_train, y_train)\n",
    "pred = SGDPipeLine.predict(X_test)\n",
    "score=metrics.accuracy_score(y_test, pred)\n",
    "print(\"test size=20, accuracy = {0:.2f}\".format(100*score),\"%\")\n",
    "\n",
    "X_train,X_test,y_train,y_test=train_test_split(x,y,test_size=0.25, random_state=0)\n",
    "SGDPipeLine.fit(X_train, y_train)\n",
    "pred = SGDPipeLine.predict(X_test)\n",
    "score=metrics.accuracy_score(y_test, pred)\n",
    "print(\"test size=25, accuracy = {0:.2f}\".format(100*score),\"%\")\n",
    "\n",
    "X_train,X_test,y_train,y_test=train_test_split(x,y,test_size=0.30, random_state=0)\n",
    "SGDPipeLine.fit(X_train, y_train)\n",
    "pred = SGDPipeLine.predict(X_test)\n",
    "score=metrics.accuracy_score(y_test, pred)\n",
    "print(\"test size=30, accuracy = {0:.2f}\".format(100*score),\"%\")\n",
    "\n",
    "X_train,X_test,y_train,y_test=train_test_split(x,y,test_size=0.35, random_state=0)\n",
    "SGDPipeLine.fit(X_train, y_train)\n",
    "pred = SGDPipeLine.predict(X_test)\n",
    "score=metrics.accuracy_score(y_test, pred)\n",
    "print(\"test size=35, accuracy = {0:.2f}\".format(100*score),\"%\")"
   ]
  },
  {
   "cell_type": "code",
   "execution_count": null,
   "metadata": {},
   "outputs": [],
   "source": []
  },
  {
   "cell_type": "code",
   "execution_count": 7,
   "metadata": {},
   "outputs": [],
   "source": [
    "#################### save the best model as joblib ######################\n",
    "\n",
    "# import joblib\n",
    "# X_train,X_test,y_train,y_test=train_test_split(x,y,test_size=0.20, random_state=0)\n",
    "# SGDPipeLineFinal = Pipeline([('tfidf', TfidfVectorizer(analyzer='word',ngram_range=(1,3))),\n",
    "#                   ('SGDclf', SGDClassifier(max_iter=1000, tol=1e-3,n_jobs=2,penalty=\"l2\")) ])\n",
    "# SGDPipeLineFinal.fit(X_train, y_train)\n",
    "# pred = SGDPipeLineFinal.predict(X_test)\n",
    "# score=metrics.accuracy_score(y_test, pred)\n",
    "# print(\"test size=20, accuracy = {0:.2f}\".format(100*score),\"%\")\n",
    "# joblib.dump(SGDPipeLineFinal,'/content/drive/MyDrive/colab/SavedModel/WithOutStopSGDbestMLModel')"
   ]
  },
  {
   "cell_type": "code",
   "execution_count": null,
   "metadata": {},
   "outputs": [],
   "source": []
  },
  {
   "cell_type": "code",
   "execution_count": null,
   "metadata": {},
   "outputs": [],
   "source": []
  },
  {
   "cell_type": "code",
   "execution_count": null,
   "metadata": {},
   "outputs": [],
   "source": []
  },
  {
   "cell_type": "code",
   "execution_count": null,
   "metadata": {},
   "outputs": [],
   "source": []
  },
  {
   "cell_type": "code",
   "execution_count": null,
   "metadata": {},
   "outputs": [],
   "source": []
  },
  {
   "cell_type": "code",
   "execution_count": null,
   "metadata": {},
   "outputs": [],
   "source": []
  },
  {
   "cell_type": "code",
   "execution_count": null,
   "metadata": {},
   "outputs": [],
   "source": []
  },
  {
   "cell_type": "code",
   "execution_count": null,
   "metadata": {},
   "outputs": [],
   "source": []
  }
 ],
 "metadata": {
  "kernelspec": {
   "display_name": "newsVenv",
   "language": "python",
   "name": "newsvenv"
  },
  "language_info": {
   "codemirror_mode": {
    "name": "ipython",
    "version": 3
   },
   "file_extension": ".py",
   "mimetype": "text/x-python",
   "name": "python",
   "nbconvert_exporter": "python",
   "pygments_lexer": "ipython3",
   "version": "3.6.8"
  }
 },
 "nbformat": 4,
 "nbformat_minor": 5
}
