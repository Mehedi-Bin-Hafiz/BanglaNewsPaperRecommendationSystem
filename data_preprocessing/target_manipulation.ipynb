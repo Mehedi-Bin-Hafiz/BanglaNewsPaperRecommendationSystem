{
 "cells": [
  {
   "cell_type": "code",
   "execution_count": 4,
   "id": "450f7891",
   "metadata": {},
   "outputs": [],
   "source": [
    "import pandas as pd\n",
    "df = pd.read_excel('../database/PreFinalDataset.xlsx',engine='openpyxl')  "
   ]
  },
  {
   "cell_type": "code",
   "execution_count": 5,
   "id": "3fc70353",
   "metadata": {},
   "outputs": [
    {
     "data": {
      "text/html": [
       "<div>\n",
       "<style scoped>\n",
       "    .dataframe tbody tr th:only-of-type {\n",
       "        vertical-align: middle;\n",
       "    }\n",
       "\n",
       "    .dataframe tbody tr th {\n",
       "        vertical-align: top;\n",
       "    }\n",
       "\n",
       "    .dataframe thead th {\n",
       "        text-align: right;\n",
       "    }\n",
       "</style>\n",
       "<table border=\"1\" class=\"dataframe\">\n",
       "  <thead>\n",
       "    <tr style=\"text-align: right;\">\n",
       "      <th></th>\n",
       "      <th>tags</th>\n",
       "      <th>headline</th>\n",
       "      <th>url</th>\n",
       "      <th>clean_body</th>\n",
       "      <th>stop_clean_body</th>\n",
       "      <th>target</th>\n",
       "    </tr>\n",
       "  </thead>\n",
       "  <tbody>\n",
       "    <tr>\n",
       "      <th>0</th>\n",
       "      <td>['আমেরিকা  দূর পরবাস']</td>\n",
       "      <td>নিউইয়র্কে একুশের গ্রন্থমেলা</td>\n",
       "      <td>https://www.prothomalo.com/life/durporobash/নি...</td>\n",
       "      <td>২০ ফেব্রুয়ারি বিকেল পাঁচটায় জাতিসংঘের সদর দ...</td>\n",
       "      <td>২০ ফেব্রুয়ারি বিকেল পাঁচটায় জাতিসংঘের সদর দপ...</td>\n",
       "      <td>durporobash</td>\n",
       "    </tr>\n",
       "    <tr>\n",
       "      <th>1</th>\n",
       "      <td>['বিবিধ', 'বিনোদন']</td>\n",
       "      <td>abc আজকের আয়োজন</td>\n",
       "      <td>https://www.prothomalo.com/entertainment/abc-আ...</td>\n",
       "      <td>তথ্য ও বিনোদনপ্রেমরোগকথাবন্ধু শারমীন ও লাভ সি...</td>\n",
       "      <td>তথ্য বিনোদনপ্রেমরোগকথাবন্ধু শারমীন লাভ সিক বিপ...</td>\n",
       "      <td>entertainment</td>\n",
       "    </tr>\n",
       "    <tr>\n",
       "      <th>2</th>\n",
       "      <td>['বিবিধ', 'বিশাল বাংলা']</td>\n",
       "      <td>বিজ্ঞানের তিনটি বিষয়ে সম্মান কোর্স চালুর দাবি</td>\n",
       "      <td>https://www.prothomalo.com/bangladesh/বিজ্ঞানে...</td>\n",
       "      <td>কক্সবাজার সরকারি কলেজে পদার্থ রসায়ন ও প্রাণিব...</td>\n",
       "      <td>কক্সবাজার সরকারি কলেজে পদার্থ রসায়ন প্রাণিবিদ্...</td>\n",
       "      <td>bangladesh</td>\n",
       "    </tr>\n",
       "    <tr>\n",
       "      <th>3</th>\n",
       "      <td>['মতামত', 'চিঠিপত্র']</td>\n",
       "      <td>এমআরপি সংশোধন ফি</td>\n",
       "      <td>https://www.prothomalo.com/opinion/letter/এমআর...</td>\n",
       "      <td>বাংলাদেশে ২০০৯ সাল থেকে এমআরপি পাসপোর্ট কার্য...</td>\n",
       "      <td>বাংলাদেশে ২০০৯ সাল এমআরপি পাসপোর্ট কার্যক্রম আ...</td>\n",
       "      <td>letter</td>\n",
       "    </tr>\n",
       "  </tbody>\n",
       "</table>\n",
       "</div>"
      ],
      "text/plain": [
       "                       tags                                        headline  \\\n",
       "0    ['আমেরিকা  দূর পরবাস']                    নিউইয়র্কে একুশের গ্রন্থমেলা   \n",
       "1       ['বিবিধ', 'বিনোদন']                                abc আজকের আয়োজন   \n",
       "2  ['বিবিধ', 'বিশাল বাংলা']  বিজ্ঞানের তিনটি বিষয়ে সম্মান কোর্স চালুর দাবি   \n",
       "3     ['মতামত', 'চিঠিপত্র']                                এমআরপি সংশোধন ফি   \n",
       "\n",
       "                                                 url  \\\n",
       "0  https://www.prothomalo.com/life/durporobash/নি...   \n",
       "1  https://www.prothomalo.com/entertainment/abc-আ...   \n",
       "2  https://www.prothomalo.com/bangladesh/বিজ্ঞানে...   \n",
       "3  https://www.prothomalo.com/opinion/letter/এমআর...   \n",
       "\n",
       "                                          clean_body  \\\n",
       "0   ২০ ফেব্রুয়ারি বিকেল পাঁচটায় জাতিসংঘের সদর দ...   \n",
       "1   তথ্য ও বিনোদনপ্রেমরোগকথাবন্ধু শারমীন ও লাভ সি...   \n",
       "2   কক্সবাজার সরকারি কলেজে পদার্থ রসায়ন ও প্রাণিব...   \n",
       "3   বাংলাদেশে ২০০৯ সাল থেকে এমআরপি পাসপোর্ট কার্য...   \n",
       "\n",
       "                                     stop_clean_body         target  \n",
       "0  ২০ ফেব্রুয়ারি বিকেল পাঁচটায় জাতিসংঘের সদর দপ...    durporobash  \n",
       "1  তথ্য বিনোদনপ্রেমরোগকথাবন্ধু শারমীন লাভ সিক বিপ...  entertainment  \n",
       "2  কক্সবাজার সরকারি কলেজে পদার্থ রসায়ন প্রাণিবিদ্...     bangladesh  \n",
       "3  বাংলাদেশে ২০০৯ সাল এমআরপি পাসপোর্ট কার্যক্রম আ...         letter  "
      ]
     },
     "execution_count": 5,
     "metadata": {},
     "output_type": "execute_result"
    }
   ],
   "source": [
    "df.head(4)"
   ]
  },
  {
   "cell_type": "code",
   "execution_count": 6,
   "id": "1a75c98c",
   "metadata": {},
   "outputs": [
    {
     "data": {
      "text/plain": [
       "10000"
      ]
     },
     "execution_count": 6,
     "metadata": {},
     "output_type": "execute_result"
    }
   ],
   "source": [
    "####### target variable anaysis ########\n",
    "len(df)"
   ]
  },
  {
   "cell_type": "code",
   "execution_count": 7,
   "id": "2f8a6e60",
   "metadata": {},
   "outputs": [
    {
     "data": {
      "text/plain": [
       "bangladesh       3668\n",
       "crime            1476\n",
       "cricket           424\n",
       "politics          371\n",
       "business          343\n",
       "                 ... \n",
       "reaction            1\n",
       "poem                1\n",
       "banglanewyear       1\n",
       "recipe              1\n",
       "interior            1\n",
       "Name: target, Length: 65, dtype: int64"
      ]
     },
     "execution_count": 7,
     "metadata": {},
     "output_type": "execute_result"
    }
   ],
   "source": [
    "df.target.value_counts() "
   ]
  },
  {
   "cell_type": "code",
   "execution_count": 8,
   "id": "42d09d29",
   "metadata": {},
   "outputs": [
    {
     "ename": "ModuleNotFoundError",
     "evalue": "No module named 'matplotlib'",
     "output_type": "error",
     "traceback": [
      "\u001b[1;31m---------------------------------------------------------------------------\u001b[0m",
      "\u001b[1;31mModuleNotFoundError\u001b[0m                       Traceback (most recent call last)",
      "\u001b[1;32m<ipython-input-8-060211470733>\u001b[0m in \u001b[0;36m<module>\u001b[1;34m\u001b[0m\n\u001b[1;32m----> 1\u001b[1;33m \u001b[1;32mfrom\u001b[0m \u001b[0mmatplotlib\u001b[0m \u001b[1;32mimport\u001b[0m \u001b[0mpyplot\u001b[0m \u001b[1;32mas\u001b[0m \u001b[0mplt\u001b[0m\u001b[1;33m\u001b[0m\u001b[1;33m\u001b[0m\u001b[0m\n\u001b[0m\u001b[0;32m      2\u001b[0m \u001b[1;32mimport\u001b[0m \u001b[0mseaborn\u001b[0m \u001b[1;32mas\u001b[0m \u001b[0msns\u001b[0m\u001b[1;33m\u001b[0m\u001b[1;33m\u001b[0m\u001b[0m\n\u001b[0;32m      3\u001b[0m \u001b[1;32mimport\u001b[0m \u001b[0mmatplotlib\u001b[0m\u001b[1;33m\u001b[0m\u001b[1;33m\u001b[0m\u001b[0m\n\u001b[0;32m      4\u001b[0m font = {'family' : 'Times New Roman',\n\u001b[0;32m      5\u001b[0m \u001b[1;31m#         'weight' : 'bold',\u001b[0m\u001b[1;33m\u001b[0m\u001b[1;33m\u001b[0m\u001b[1;33m\u001b[0m\u001b[0m\n",
      "\u001b[1;31mModuleNotFoundError\u001b[0m: No module named 'matplotlib'"
     ]
    }
   ],
   "source": [
    "from matplotlib import pyplot as plt\n",
    "import seaborn as sns\n",
    "import matplotlib \n",
    "font = {'family' : 'Times New Roman',\n",
    "#         'weight' : 'bold',\n",
    "        'size'   : 18}\n",
    "\n",
    "matplotlib.rc('font', **font)\n",
    "\n",
    "target_df = df.target.value_counts() \n",
    "plt.figure(figsize=(20,12))\n",
    "sns.barplot(target_df.index, target_df.values, alpha=0.8)\n",
    "plt.ylabel('Number of Occurrences', fontsize=18)\n",
    "plt.xlabel('Target', fontsize=18)\n",
    "plt.xticks(rotation=90)\n",
    "plt.savefig('Initial All Target.jpeg')\n",
    "plt.show()\n",
    "\n"
   ]
  },
  {
   "cell_type": "code",
   "execution_count": null,
   "id": "958e6222",
   "metadata": {},
   "outputs": [],
   "source": [
    "taken_df = df.target.value_counts().rename_axis('target').reset_index(name='Frequency') "
   ]
  },
  {
   "cell_type": "code",
   "execution_count": null,
   "id": "af34dc36",
   "metadata": {},
   "outputs": [],
   "source": [
    "taken_df "
   ]
  },
  {
   "cell_type": "code",
   "execution_count": null,
   "id": "7c71b5df",
   "metadata": {},
   "outputs": [],
   "source": [
    "######## find which target comes only one time ###########\n",
    "taken_df = taken_df[taken_df.Frequency>100]   "
   ]
  },
  {
   "cell_type": "code",
   "execution_count": null,
   "id": "6ac90300",
   "metadata": {},
   "outputs": [],
   "source": [
    "taken_df"
   ]
  },
  {
   "cell_type": "code",
   "execution_count": null,
   "id": "aa88d3ea",
   "metadata": {},
   "outputs": [],
   "source": [
    "plt.figure(figsize=(20,12))\n",
    "sns.barplot(taken_df.target.tolist(), taken_df.Frequency.tolist(), alpha=0.8)\n",
    "plt.ylabel('Number of Occurrences', fontsize=18)\n",
    "plt.xlabel('target', fontsize=18)\n",
    "plt.xticks(rotation=90)\n",
    "plt.savefig('Taken target though imbalanced.jpeg')\n",
    "plt.show()"
   ]
  },
  {
   "cell_type": "code",
   "execution_count": null,
   "id": "d54642fd",
   "metadata": {},
   "outputs": [],
   "source": [
    "from statistics import mean\n",
    "avg_num_target = mean(taken_df.Frequency.tolist())\n",
    "print(avg_num_target)\n",
    "print(len(df[df.target == 'durporobash']))\n"
   ]
  },
  {
   "cell_type": "code",
   "execution_count": null,
   "id": "5f0ce5e1",
   "metadata": {},
   "outputs": [],
   "source": [
    "### merge with final ##\n",
    "df2 = df.merge(taken_df, on='target') \n",
    "df2"
   ]
  },
  {
   "cell_type": "code",
   "execution_count": null,
   "id": "03858e38",
   "metadata": {},
   "outputs": [],
   "source": [
    "del df2['Frequency']"
   ]
  },
  {
   "cell_type": "code",
   "execution_count": null,
   "id": "a24d9f28",
   "metadata": {},
   "outputs": [],
   "source": [
    "df2.target.value_counts() "
   ]
  },
  {
   "cell_type": "code",
   "execution_count": null,
   "id": "0bda08eb",
   "metadata": {},
   "outputs": [],
   "source": [
    "from matplotlib.gridspec import GridSpec\n",
    "import numpy as np\n",
    "font = {'family' : 'Times New Roman',\n",
    "#         'weight' : 'bold',\n",
    "        'size'   : 25}\n",
    "\n",
    "matplotlib.rc('font', **font)\n",
    "\n",
    "targetCounts = df2['target'].value_counts()\n",
    "targetLabels  = df2['target'].value_counts().rename_axis('Target').reset_index(name='Frequency')\n",
    "targetLabels = targetLabels.Target.tolist()\n",
    "# Make square figures and axes\n",
    "cmap = plt.get_cmap('coolwarm')\n",
    "plt.figure(1, figsize=(18,14))\n",
    "source_pie = plt.pie(targetCounts, labels=targetLabels, autopct='%1.1f%%', shadow=False)\n",
    "plt.savefig('imbalancedbalancedpie.jpeg')\n",
    "plt.show()"
   ]
  },
  {
   "cell_type": "code",
   "execution_count": null,
   "id": "dddb99a4",
   "metadata": {},
   "outputs": [],
   "source": [
    "for i in taken_df.target: \n",
    "    ind = df2.target[df2.target == i].index\n",
    "    d2f = df2.drop(ind[300:])"
   ]
  },
  {
   "cell_type": "code",
   "execution_count": null,
   "id": "8f0d4e1c",
   "metadata": {},
   "outputs": [],
   "source": [
    "keep_data = int(avg_num_target)\n",
    "for i in taken_df.target:  # title df2 is used for reduce time complexity  ### Down sampling ###\n",
    "    if len(df2[df2.target == i])>keep_data:\n",
    "        indexNames = df2[df2.target== i ].index\n",
    "        keep_16 = indexNames[keep_data:]\n",
    "        df2 = df2.drop(keep_16)\n",
    "    else:\n",
    "        pass"
   ]
  },
  {
   "cell_type": "code",
   "execution_count": null,
   "id": "6cd2ab73",
   "metadata": {},
   "outputs": [],
   "source": [
    "master_copy_df = pd.DataFrame()\n",
    "for i in taken_df.target:  # title df2 is used for reduce time complexity  ### Down sampling ###\n",
    "    if len(df2[df2.target == i] )<keep_data:     ### up sampling ##\n",
    "        clone_df = pd.DataFrame()\n",
    "        indexNames = df2[ df2.target == i ].index\n",
    "        multi_factor = round(keep_data/len(indexNames)) # already exist same amount of len(indexNames)\n",
    "        for j in indexNames:\n",
    "            clone_df = clone_df.append(df2.loc[[j]*multi_factor],ignore_index = True)\n",
    "        approved_index = keep_data-len(indexNames)\n",
    "        clone_df = clone_df.iloc[:approved_index]\n",
    "        frames = [master_copy_df, clone_df]\n",
    "        master_copy_df = pd.concat(frames)\n",
    "    else:\n",
    "        pass"
   ]
  },
  {
   "cell_type": "code",
   "execution_count": null,
   "id": "c39bfdf1",
   "metadata": {},
   "outputs": [],
   "source": [
    "final_frame = [df2, master_copy_df]\n",
    "final_df = pd.concat(final_frame)"
   ]
  },
  {
   "cell_type": "code",
   "execution_count": null,
   "id": "ef030895",
   "metadata": {},
   "outputs": [],
   "source": []
  },
  {
   "cell_type": "code",
   "execution_count": null,
   "id": "0d046d12",
   "metadata": {},
   "outputs": [],
   "source": [
    "from matplotlib.gridspec import GridSpec\n",
    "import numpy as np\n",
    "font = {'family' : 'Times New Roman',\n",
    "#         'weight' : 'bold',\n",
    "        'size'   : 25} \n",
    "\n",
    "matplotlib.rc('font', **font) \n",
    "\n",
    "targetCounts = final_df['target'].value_counts()\n",
    "targetLabels  = final_df['target'].unique()\n",
    "# Make square figures and axes\n",
    "plt.figure(1, figsize=(18,14))\n",
    "cmap = plt.get_cmap('coolwarm')\n",
    "source_pie = plt.pie(targetCounts, labels=targetLabels, autopct='%1.1f%%', shadow=False, )\n",
    "plt.savefig('balancedpie.jpeg')\n",
    "plt.show()"
   ]
  },
  {
   "cell_type": "code",
   "execution_count": null,
   "id": "a10a50f3",
   "metadata": {},
   "outputs": [],
   "source": [
    "############### maximum word counter analysis ###############\n"
   ]
  },
  {
   "cell_type": "code",
   "execution_count": null,
   "id": "e8e3f04b",
   "metadata": {},
   "outputs": [],
   "source": []
  },
  {
   "cell_type": "code",
   "execution_count": null,
   "id": "e82a9885",
   "metadata": {},
   "outputs": [],
   "source": []
  },
  {
   "cell_type": "code",
   "execution_count": null,
   "id": "bec6b099",
   "metadata": {},
   "outputs": [],
   "source": [
    "final_df = final_df.sample(frac = 1)\n",
    "# final_df.to_excel('../dataset/FinalTrainAbleDataset.xlsx')"
   ]
  },
  {
   "cell_type": "code",
   "execution_count": null,
   "id": "8f0900a5",
   "metadata": {},
   "outputs": [],
   "source": []
  },
  {
   "cell_type": "code",
   "execution_count": null,
   "id": "f3ea93e0",
   "metadata": {},
   "outputs": [],
   "source": []
  },
  {
   "cell_type": "code",
   "execution_count": null,
   "id": "00b18337",
   "metadata": {},
   "outputs": [],
   "source": []
  },
  {
   "cell_type": "code",
   "execution_count": null,
   "id": "7841ba4e",
   "metadata": {},
   "outputs": [],
   "source": []
  },
  {
   "cell_type": "code",
   "execution_count": null,
   "id": "fba7664d",
   "metadata": {},
   "outputs": [],
   "source": []
  }
 ],
 "metadata": {
  "kernelspec": {
   "display_name": "Python 3",
   "language": "python",
   "name": "python3"
  },
  "language_info": {
   "codemirror_mode": {
    "name": "ipython",
    "version": 3
   },
   "file_extension": ".py",
   "mimetype": "text/x-python",
   "name": "python",
   "nbconvert_exporter": "python",
   "pygments_lexer": "ipython3",
   "version": "3.6.8"
  },
  "toc": {
   "base_numbering": 1,
   "nav_menu": {},
   "number_sections": true,
   "sideBar": true,
   "skip_h1_title": false,
   "title_cell": "Table of Contents",
   "title_sidebar": "Contents",
   "toc_cell": false,
   "toc_position": {},
   "toc_section_display": true,
   "toc_window_display": false
  }
 },
 "nbformat": 4,
 "nbformat_minor": 5
}
