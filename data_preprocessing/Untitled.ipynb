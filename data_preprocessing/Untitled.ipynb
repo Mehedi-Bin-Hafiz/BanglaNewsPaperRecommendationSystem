{
 "cells": [
  {
   "cell_type": "code",
   "execution_count": 14,
   "id": "547e5247",
   "metadata": {},
   "outputs": [],
   "source": [
    "import pandas as pd\n",
    "df = pd.read_clipboard()"
   ]
  },
  {
   "cell_type": "code",
   "execution_count": 15,
   "id": "cd6b3469",
   "metadata": {},
   "outputs": [],
   "source": [
    "df.to_excel('tablegen.xlsx',index = False)"
   ]
  }
 ],
 "metadata": {
  "kernelspec": {
   "display_name": "Python 3",
   "language": "python",
   "name": "python3"
  },
  "language_info": {
   "codemirror_mode": {
    "name": "ipython",
    "version": 3
   },
   "file_extension": ".py",
   "mimetype": "text/x-python",
   "name": "python",
   "nbconvert_exporter": "python",
   "pygments_lexer": "ipython3",
   "version": "3.6.8"
  }
 },
 "nbformat": 4,
 "nbformat_minor": 5
}
