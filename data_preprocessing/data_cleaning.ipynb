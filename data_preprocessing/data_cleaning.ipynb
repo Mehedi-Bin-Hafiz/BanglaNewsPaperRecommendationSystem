{
 "cells": [
  {
   "cell_type": "code",
   "execution_count": 2,
   "metadata": {},
   "outputs": [],
   "source": [
    "import pandas as pd \n",
    "df = pd.read_excel(\"../database/split_dataset.xlsx\") "
   ]
  },
  {
   "cell_type": "code",
   "execution_count": 3,
   "metadata": {},
   "outputs": [
    {
     "data": {
      "text/html": [
       "<div>\n",
       "<style scoped>\n",
       "    .dataframe tbody tr th:only-of-type {\n",
       "        vertical-align: middle;\n",
       "    }\n",
       "\n",
       "    .dataframe tbody tr th {\n",
       "        vertical-align: top;\n",
       "    }\n",
       "\n",
       "    .dataframe thead th {\n",
       "        text-align: right;\n",
       "    }\n",
       "</style>\n",
       "<table border=\"1\" class=\"dataframe\">\n",
       "  <thead>\n",
       "    <tr style=\"text-align: right;\">\n",
       "      <th></th>\n",
       "      <th>tags</th>\n",
       "      <th>headline</th>\n",
       "      <th>url</th>\n",
       "      <th>body</th>\n",
       "      <th>general_type</th>\n",
       "    </tr>\n",
       "  </thead>\n",
       "  <tbody>\n",
       "    <tr>\n",
       "      <th>0</th>\n",
       "      <td>['আমেরিকা  দূর পরবাস']</td>\n",
       "      <td>নিউইয়র্কে একুশের গ্রন্থমেলা</td>\n",
       "      <td>https://www.prothomalo.com/life/durporobash/নি...</td>\n",
       "      <td>['&lt;p&gt;২০ ফেব্রুয়ারি বিকেল পাঁচটায় জাতিসংঘের স...</td>\n",
       "      <td>['life', 'durporobash']</td>\n",
       "    </tr>\n",
       "    <tr>\n",
       "      <th>1</th>\n",
       "      <td>['বিবিধ', 'বিনোদন']</td>\n",
       "      <td>abc আজকের আয়োজন</td>\n",
       "      <td>https://www.prothomalo.com/entertainment/abc-আ...</td>\n",
       "      <td>['&lt;p&gt;তথ্য ও বিনোদন&lt;br /&gt;প্রেমরোগ&lt;br /&gt;কথাবন্ধু...</td>\n",
       "      <td>['entertainment']</td>\n",
       "    </tr>\n",
       "    <tr>\n",
       "      <th>2</th>\n",
       "      <td>['বিবিধ', 'বিশাল বাংলা']</td>\n",
       "      <td>বিজ্ঞানের তিনটি বিষয়ে সম্মান কোর্স চালুর দাবি</td>\n",
       "      <td>https://www.prothomalo.com/bangladesh/বিজ্ঞানে...</td>\n",
       "      <td>['&lt;p&gt;কক্সবাজার সরকারি কলেজে পদার্থ, রসায়ন ও প্...</td>\n",
       "      <td>['bangladesh']</td>\n",
       "    </tr>\n",
       "    <tr>\n",
       "      <th>3</th>\n",
       "      <td>['মতামত', 'চিঠিপত্র']</td>\n",
       "      <td>এমআরপি সংশোধন ফি</td>\n",
       "      <td>https://www.prothomalo.com/opinion/letter/এমআর...</td>\n",
       "      <td>['&lt;p&gt;বাংলাদেশে ২০০৯ সাল থেকে এমআরপি পাসপোর্ট ক...</td>\n",
       "      <td>['opinion', 'letter']</td>\n",
       "    </tr>\n",
       "    <tr>\n",
       "      <th>4</th>\n",
       "      <td>['বিবিধ', 'বিশাল বাংলা', 'রংপুর বিভাগ', 'দিনাজ...</td>\n",
       "      <td>দিনাজপুর বোর্ডে দ্বিতীয় স্থান ধরে রেখেছে আমেন...</td>\n",
       "      <td>https://www.prothomalo.com/bangladesh/দিনাজপুর...</td>\n",
       "      <td>['&lt;p&gt;দিনাজপুর শিক্ষা বোর্ডের অধীন জেএসসি পরীক্...</td>\n",
       "      <td>['bangladesh']</td>\n",
       "    </tr>\n",
       "  </tbody>\n",
       "</table>\n",
       "</div>"
      ],
      "text/plain": [
       "                                                tags  \\\n",
       "0                             ['আমেরিকা  দূর পরবাস']   \n",
       "1                                ['বিবিধ', 'বিনোদন']   \n",
       "2                           ['বিবিধ', 'বিশাল বাংলা']   \n",
       "3                              ['মতামত', 'চিঠিপত্র']   \n",
       "4  ['বিবিধ', 'বিশাল বাংলা', 'রংপুর বিভাগ', 'দিনাজ...   \n",
       "\n",
       "                                            headline  \\\n",
       "0                       নিউইয়র্কে একুশের গ্রন্থমেলা   \n",
       "1                                   abc আজকের আয়োজন   \n",
       "2     বিজ্ঞানের তিনটি বিষয়ে সম্মান কোর্স চালুর দাবি   \n",
       "3                                   এমআরপি সংশোধন ফি   \n",
       "4  দিনাজপুর বোর্ডে দ্বিতীয় স্থান ধরে রেখেছে আমেন...   \n",
       "\n",
       "                                                 url  \\\n",
       "0  https://www.prothomalo.com/life/durporobash/নি...   \n",
       "1  https://www.prothomalo.com/entertainment/abc-আ...   \n",
       "2  https://www.prothomalo.com/bangladesh/বিজ্ঞানে...   \n",
       "3  https://www.prothomalo.com/opinion/letter/এমআর...   \n",
       "4  https://www.prothomalo.com/bangladesh/দিনাজপুর...   \n",
       "\n",
       "                                                body             general_type  \n",
       "0  ['<p>২০ ফেব্রুয়ারি বিকেল পাঁচটায় জাতিসংঘের স...  ['life', 'durporobash']  \n",
       "1  ['<p>তথ্য ও বিনোদন<br />প্রেমরোগ<br />কথাবন্ধু...        ['entertainment']  \n",
       "2  ['<p>কক্সবাজার সরকারি কলেজে পদার্থ, রসায়ন ও প্...           ['bangladesh']  \n",
       "3  ['<p>বাংলাদেশে ২০০৯ সাল থেকে এমআরপি পাসপোর্ট ক...    ['opinion', 'letter']  \n",
       "4  ['<p>দিনাজপুর শিক্ষা বোর্ডের অধীন জেএসসি পরীক্...           ['bangladesh']  "
      ]
     },
     "execution_count": 3,
     "metadata": {},
     "output_type": "execute_result"
    }
   ],
   "source": [
    "df.head(5)"
   ]
  },
  {
   "cell_type": "code",
   "execution_count": 4,
   "metadata": {},
   "outputs": [
    {
     "data": {
      "text/plain": [
       "str"
      ]
     },
     "execution_count": 4,
     "metadata": {},
     "output_type": "execute_result"
    }
   ],
   "source": [
    "type(df.general_type[1])  "
   ]
  },
  {
   "cell_type": "code",
   "execution_count": 5,
   "metadata": {},
   "outputs": [],
   "source": [
    "## target data manipulation ##\n",
    "import ast\n",
    "final_target  = list()\n",
    "for i in range(len(df)):\n",
    "    lis = ast.literal_eval(df.general_type[i])\n",
    "    if len(lis) == 1:\n",
    "        final_target.append(lis[0])\n",
    "    else:\n",
    "        final_target.append(lis[1])\n",
    "    "
   ]
  },
  {
   "cell_type": "code",
   "execution_count": 6,
   "metadata": {},
   "outputs": [],
   "source": [
    "df['target'] = final_target"
   ]
  },
  {
   "cell_type": "code",
   "execution_count": 7,
   "metadata": {},
   "outputs": [
    {
     "data": {
      "text/html": [
       "<div>\n",
       "<style scoped>\n",
       "    .dataframe tbody tr th:only-of-type {\n",
       "        vertical-align: middle;\n",
       "    }\n",
       "\n",
       "    .dataframe tbody tr th {\n",
       "        vertical-align: top;\n",
       "    }\n",
       "\n",
       "    .dataframe thead th {\n",
       "        text-align: right;\n",
       "    }\n",
       "</style>\n",
       "<table border=\"1\" class=\"dataframe\">\n",
       "  <thead>\n",
       "    <tr style=\"text-align: right;\">\n",
       "      <th></th>\n",
       "      <th>tags</th>\n",
       "      <th>headline</th>\n",
       "      <th>url</th>\n",
       "      <th>body</th>\n",
       "      <th>general_type</th>\n",
       "      <th>target</th>\n",
       "    </tr>\n",
       "  </thead>\n",
       "  <tbody>\n",
       "    <tr>\n",
       "      <th>0</th>\n",
       "      <td>['আমেরিকা  দূর পরবাস']</td>\n",
       "      <td>নিউইয়র্কে একুশের গ্রন্থমেলা</td>\n",
       "      <td>https://www.prothomalo.com/life/durporobash/নি...</td>\n",
       "      <td>['&lt;p&gt;২০ ফেব্রুয়ারি বিকেল পাঁচটায় জাতিসংঘের স...</td>\n",
       "      <td>['life', 'durporobash']</td>\n",
       "      <td>durporobash</td>\n",
       "    </tr>\n",
       "    <tr>\n",
       "      <th>1</th>\n",
       "      <td>['বিবিধ', 'বিনোদন']</td>\n",
       "      <td>abc আজকের আয়োজন</td>\n",
       "      <td>https://www.prothomalo.com/entertainment/abc-আ...</td>\n",
       "      <td>['&lt;p&gt;তথ্য ও বিনোদন&lt;br /&gt;প্রেমরোগ&lt;br /&gt;কথাবন্ধু...</td>\n",
       "      <td>['entertainment']</td>\n",
       "      <td>entertainment</td>\n",
       "    </tr>\n",
       "    <tr>\n",
       "      <th>2</th>\n",
       "      <td>['বিবিধ', 'বিশাল বাংলা']</td>\n",
       "      <td>বিজ্ঞানের তিনটি বিষয়ে সম্মান কোর্স চালুর দাবি</td>\n",
       "      <td>https://www.prothomalo.com/bangladesh/বিজ্ঞানে...</td>\n",
       "      <td>['&lt;p&gt;কক্সবাজার সরকারি কলেজে পদার্থ, রসায়ন ও প্...</td>\n",
       "      <td>['bangladesh']</td>\n",
       "      <td>bangladesh</td>\n",
       "    </tr>\n",
       "    <tr>\n",
       "      <th>3</th>\n",
       "      <td>['মতামত', 'চিঠিপত্র']</td>\n",
       "      <td>এমআরপি সংশোধন ফি</td>\n",
       "      <td>https://www.prothomalo.com/opinion/letter/এমআর...</td>\n",
       "      <td>['&lt;p&gt;বাংলাদেশে ২০০৯ সাল থেকে এমআরপি পাসপোর্ট ক...</td>\n",
       "      <td>['opinion', 'letter']</td>\n",
       "      <td>letter</td>\n",
       "    </tr>\n",
       "    <tr>\n",
       "      <th>4</th>\n",
       "      <td>['বিবিধ', 'বিশাল বাংলা', 'রংপুর বিভাগ', 'দিনাজ...</td>\n",
       "      <td>দিনাজপুর বোর্ডে দ্বিতীয় স্থান ধরে রেখেছে আমেন...</td>\n",
       "      <td>https://www.prothomalo.com/bangladesh/দিনাজপুর...</td>\n",
       "      <td>['&lt;p&gt;দিনাজপুর শিক্ষা বোর্ডের অধীন জেএসসি পরীক্...</td>\n",
       "      <td>['bangladesh']</td>\n",
       "      <td>bangladesh</td>\n",
       "    </tr>\n",
       "    <tr>\n",
       "      <th>5</th>\n",
       "      <td>['আন্তর্জাতিক ক্রিকেট']</td>\n",
       "      <td>অস্ট্রেলিয়া-ভারত প্রথম টেস্ট স্থগিত</td>\n",
       "      <td>https://www.prothomalo.com/sports/cricket/অস্ট...</td>\n",
       "      <td>['&lt;p&gt;ফিল হিউজের মৃত্যুতে শোকাহাত ক্রিকেটদুনিয়...</td>\n",
       "      <td>['sports', 'cricket']</td>\n",
       "      <td>cricket</td>\n",
       "    </tr>\n",
       "    <tr>\n",
       "      <th>6</th>\n",
       "      <td>['বিবিধ', 'বিশাল বাংলা', 'পাবনা', 'রাজশাহী বিভ...</td>\n",
       "      <td>প্ল্যাটফর্ম ও পদচারী সেতু নির্মাণের দাবি</td>\n",
       "      <td>https://www.prothomalo.com/bangladesh/প্ল্যাটফ...</td>\n",
       "      <td>['&lt;p&gt;পাবনার চাটমোহর রেলস্টেশনে আরও একটি প্ল্যা...</td>\n",
       "      <td>['bangladesh']</td>\n",
       "      <td>bangladesh</td>\n",
       "    </tr>\n",
       "    <tr>\n",
       "      <th>7</th>\n",
       "      <td>['ঢাকা', 'সিটি নির্বাচন', 'নির্বাচন', 'ঢাকা বি...</td>\n",
       "      <td>রাজনীতি পরিচ্ছন্ন হলেই শহর পরিচ্ছন্ন হবে: মাহী</td>\n",
       "      <td>https://www.prothomalo.com/bangladesh/রাজনীতি-...</td>\n",
       "      <td>['&lt;p&gt;ঢাকা উত্তর সিটি করপোরেশন নির্বাচনে মেয়র ...</td>\n",
       "      <td>['bangladesh']</td>\n",
       "      <td>bangladesh</td>\n",
       "    </tr>\n",
       "    <tr>\n",
       "      <th>8</th>\n",
       "      <td>['চলচ্চিত্র', 'বিনোদন']</td>\n",
       "      <td>আসছে 'শঙ্খচিল'</td>\n",
       "      <td>https://www.prothomalo.com/entertainment/আসছে-...</td>\n",
       "      <td>['&lt;p&gt;মনের মানুষ ছবির পর এবার নতুন ছবির কাজ শুর...</td>\n",
       "      <td>['entertainment']</td>\n",
       "      <td>entertainment</td>\n",
       "    </tr>\n",
       "    <tr>\n",
       "      <th>9</th>\n",
       "      <td>['বিবিধ', 'দেশ', 'চট্টগ্রাম', 'সীতাকুণ্ড', 'চট...</td>\n",
       "      <td>মা-বাবার পাশে শায়িত হলেন এল কে সিদ্দিকী</td>\n",
       "      <td>https://www.prothomalo.com/bangladesh/মা-বাবার...</td>\n",
       "      <td>['&lt;p&gt;মা-বাবার কবরের পাশে চির শায়িত হয়েছেন সাবে...</td>\n",
       "      <td>['bangladesh']</td>\n",
       "      <td>bangladesh</td>\n",
       "    </tr>\n",
       "  </tbody>\n",
       "</table>\n",
       "</div>"
      ],
      "text/plain": [
       "                                                tags  \\\n",
       "0                             ['আমেরিকা  দূর পরবাস']   \n",
       "1                                ['বিবিধ', 'বিনোদন']   \n",
       "2                           ['বিবিধ', 'বিশাল বাংলা']   \n",
       "3                              ['মতামত', 'চিঠিপত্র']   \n",
       "4  ['বিবিধ', 'বিশাল বাংলা', 'রংপুর বিভাগ', 'দিনাজ...   \n",
       "5                            ['আন্তর্জাতিক ক্রিকেট']   \n",
       "6  ['বিবিধ', 'বিশাল বাংলা', 'পাবনা', 'রাজশাহী বিভ...   \n",
       "7  ['ঢাকা', 'সিটি নির্বাচন', 'নির্বাচন', 'ঢাকা বি...   \n",
       "8                            ['চলচ্চিত্র', 'বিনোদন']   \n",
       "9  ['বিবিধ', 'দেশ', 'চট্টগ্রাম', 'সীতাকুণ্ড', 'চট...   \n",
       "\n",
       "                                            headline  \\\n",
       "0                       নিউইয়র্কে একুশের গ্রন্থমেলা   \n",
       "1                                   abc আজকের আয়োজন   \n",
       "2     বিজ্ঞানের তিনটি বিষয়ে সম্মান কোর্স চালুর দাবি   \n",
       "3                                   এমআরপি সংশোধন ফি   \n",
       "4  দিনাজপুর বোর্ডে দ্বিতীয় স্থান ধরে রেখেছে আমেন...   \n",
       "5               অস্ট্রেলিয়া-ভারত প্রথম টেস্ট স্থগিত   \n",
       "6           প্ল্যাটফর্ম ও পদচারী সেতু নির্মাণের দাবি   \n",
       "7     রাজনীতি পরিচ্ছন্ন হলেই শহর পরিচ্ছন্ন হবে: মাহী   \n",
       "8                                     আসছে 'শঙ্খচিল'   \n",
       "9            মা-বাবার পাশে শায়িত হলেন এল কে সিদ্দিকী   \n",
       "\n",
       "                                                 url  \\\n",
       "0  https://www.prothomalo.com/life/durporobash/নি...   \n",
       "1  https://www.prothomalo.com/entertainment/abc-আ...   \n",
       "2  https://www.prothomalo.com/bangladesh/বিজ্ঞানে...   \n",
       "3  https://www.prothomalo.com/opinion/letter/এমআর...   \n",
       "4  https://www.prothomalo.com/bangladesh/দিনাজপুর...   \n",
       "5  https://www.prothomalo.com/sports/cricket/অস্ট...   \n",
       "6  https://www.prothomalo.com/bangladesh/প্ল্যাটফ...   \n",
       "7  https://www.prothomalo.com/bangladesh/রাজনীতি-...   \n",
       "8  https://www.prothomalo.com/entertainment/আসছে-...   \n",
       "9  https://www.prothomalo.com/bangladesh/মা-বাবার...   \n",
       "\n",
       "                                                body             general_type  \\\n",
       "0  ['<p>২০ ফেব্রুয়ারি বিকেল পাঁচটায় জাতিসংঘের স...  ['life', 'durporobash']   \n",
       "1  ['<p>তথ্য ও বিনোদন<br />প্রেমরোগ<br />কথাবন্ধু...        ['entertainment']   \n",
       "2  ['<p>কক্সবাজার সরকারি কলেজে পদার্থ, রসায়ন ও প্...           ['bangladesh']   \n",
       "3  ['<p>বাংলাদেশে ২০০৯ সাল থেকে এমআরপি পাসপোর্ট ক...    ['opinion', 'letter']   \n",
       "4  ['<p>দিনাজপুর শিক্ষা বোর্ডের অধীন জেএসসি পরীক্...           ['bangladesh']   \n",
       "5  ['<p>ফিল হিউজের মৃত্যুতে শোকাহাত ক্রিকেটদুনিয়...    ['sports', 'cricket']   \n",
       "6  ['<p>পাবনার চাটমোহর রেলস্টেশনে আরও একটি প্ল্যা...           ['bangladesh']   \n",
       "7  ['<p>ঢাকা উত্তর সিটি করপোরেশন নির্বাচনে মেয়র ...           ['bangladesh']   \n",
       "8  ['<p>মনের মানুষ ছবির পর এবার নতুন ছবির কাজ শুর...        ['entertainment']   \n",
       "9  ['<p>মা-বাবার কবরের পাশে চির শায়িত হয়েছেন সাবে...           ['bangladesh']   \n",
       "\n",
       "          target  \n",
       "0    durporobash  \n",
       "1  entertainment  \n",
       "2     bangladesh  \n",
       "3         letter  \n",
       "4     bangladesh  \n",
       "5        cricket  \n",
       "6     bangladesh  \n",
       "7     bangladesh  \n",
       "8  entertainment  \n",
       "9     bangladesh  "
      ]
     },
     "execution_count": 7,
     "metadata": {},
     "output_type": "execute_result"
    }
   ],
   "source": [
    "df.head(10)"
   ]
  },
  {
   "cell_type": "code",
   "execution_count": 8,
   "metadata": {},
   "outputs": [],
   "source": [
    "import re \n",
    "import re\n",
    "import lxml.html\n",
    "import lxml.html.clean\n",
    "punctuations = '''!()-[]{};:'\"\\,<>./?@#$%^&*_~।|'''\n",
    "def clean_text(text, for_embedding=False):\n",
    "    doc = lxml.html.fromstring(text)\n",
    "    cleaner = lxml.html.clean.Cleaner(style=True) \n",
    "    doc = cleaner.clean_html(doc)\n",
    "    text = doc.text_content() \n",
    "    RE_WSPACE = re.compile(r\"\\s+\", re.IGNORECASE)\n",
    "    RE_TAGS = re.compile(r\"<[^>]+>\")\n",
    "    text = re.sub(RE_TAGS, \" \", text)\n",
    "    text = re.sub(RE_WSPACE, \" \", text)\n",
    "    no_punct = \" \"\n",
    "    for char in text:\n",
    "        if char not in punctuations:\n",
    "            no_punct = no_punct + char\n",
    "    return no_punct \n"
   ]
  },
  {
   "cell_type": "code",
   "execution_count": 9,
   "metadata": {},
   "outputs": [],
   "source": [
    "df['clean_body'] = df.body.apply( lambda x : clean_text(x))"
   ]
  },
  {
   "cell_type": "code",
   "execution_count": 10,
   "metadata": {},
   "outputs": [],
   "source": [
    "# df.clean_body[100]"
   ]
  },
  {
   "cell_type": "code",
   "execution_count": null,
   "metadata": {},
   "outputs": [
    {
     "name": "stdout",
     "output_type": "stream",
     "text": [
      "punkt not found. downloading...\n"
     ]
    },
    {
     "name": "stderr",
     "output_type": "stream",
     "text": [
      "[nltk_data] Downloading package punkt to\n",
      "[nltk_data]     C:\\Users\\Mehedi\\AppData\\Roaming\\nltk_data...\n",
      "[nltk_data]   Unzipping tokenizers\\punkt.zip.\n",
      "C:\\Users\\Mehedi\\PycharmProjects\\BanglaNewsPaperRecommendationSystem\\newsVenv\\lib\\site-packages\\gensim\\similarities\\__init__.py:15: UserWarning: The gensim.similarities.levenshtein submodule is disabled, because the optional Levenshtein package <https://pypi.org/project/python-Levenshtein/> is unavailable. Install Levenhstein (e.g. `pip install python-Levenshtein`) to suppress this warning.\n",
      "  warnings.warn(msg)\n"
     ]
    }
   ],
   "source": [
    "####################### important preprocessing ##########################\n",
    "################# stop word removing analysis ################\n",
    "from bnlp.corpus import stopwords, punctuations, letters, digits\n",
    "from bnlp.corpus import stopwords\n",
    "from bnlp.corpus.util import remove_stopwords\n",
    "import re\n",
    "\n",
    "######### foreign language removing #######\n",
    "def for_lan_re(text):\n",
    "    text = \"\".join(i for i in text if i in [\".\",\"।\"] or 2432 <= ord(i) <= 2559 or ord(i)== 32)\n",
    "    sentence = re.sub(' +', ' ', text)\n",
    "    return sentence\n",
    "\n",
    "df.clean_body = df.clean_body.apply( lambda x : for_lan_re(x))\n",
    "\n",
    "########### stopword removing ###########\n",
    "def stopword_removing(raw_text):\n",
    "    result = remove_stopwords(raw_text, stopwords)\n",
    "    return ' '.join(result)\n",
    "\n",
    "df['stop_clean_body'] =  df.clean_body.apply( lambda x : stopword_removing(x))\n"
   ]
  },
  {
   "cell_type": "code",
   "execution_count": null,
   "metadata": {},
   "outputs": [],
   "source": [
    "df.columns\n",
    "final_df = df[['tags', 'headline', 'url','clean_body','stop_clean_body','target']]\n",
    "df.head(5)"
   ]
  },
  {
   "cell_type": "code",
   "execution_count": null,
   "metadata": {},
   "outputs": [],
   "source": [
    "# final_df.to_excel('../database/PreFinalDataset.xlsx',index=False)\n",
    "## need to remove | from xsxl file ##"
   ]
  },
  {
   "cell_type": "code",
   "execution_count": null,
   "metadata": {},
   "outputs": [],
   "source": []
  },
  {
   "cell_type": "code",
   "execution_count": null,
   "metadata": {},
   "outputs": [],
   "source": []
  },
  {
   "cell_type": "code",
   "execution_count": null,
   "metadata": {},
   "outputs": [],
   "source": []
  },
  {
   "cell_type": "code",
   "execution_count": null,
   "metadata": {},
   "outputs": [],
   "source": [
    "######################## test prog ###############################"
   ]
  },
  {
   "cell_type": "code",
   "execution_count": null,
   "metadata": {},
   "outputs": [],
   "source": [
    "############## stopword test #################\n",
    "# from bnlp.corpus import stopwords, punctuations, letters, digits\n",
    "# from bnlp.corpus import stopwords\n",
    "# from bnlp.corpus.util import remove_stopwords\n",
    "# raw_text = 'আমি ভাত খাই।'\n",
    "# result = remove_stopwords(raw_text, stopwords)\n",
    "# print(result) \n",
    "# ' '.join(result) "
   ]
  },
  {
   "cell_type": "code",
   "execution_count": null,
   "metadata": {},
   "outputs": [],
   "source": [
    "# import re\n",
    "\n",
    "# a = \"দেশের রাজনীতি দিনকে দিন পচে যাচ্ছে। पैरेनकाइमा कोशिकाएं . what a shame. সুস্থ থাকা দায়।\"\n",
    "\n",
    "# a = \"\".join(i for i in a if i in [\".\",\"।\"] or 2432 <= ord(i) <= 2559 or ord(i)== 32)\n",
    "# re.sub(' +', ' ', a)"
   ]
  },
  {
   "cell_type": "code",
   "execution_count": null,
   "metadata": {},
   "outputs": [],
   "source": [
    "# pip install jupyterthemes"
   ]
  },
  {
   "cell_type": "code",
   "execution_count": null,
   "metadata": {},
   "outputs": [],
   "source": [
    "# !jt –l"
   ]
  },
  {
   "cell_type": "code",
   "execution_count": null,
   "metadata": {},
   "outputs": [],
   "source": [
    "# !jt -t monokai"
   ]
  }
 ],
 "metadata": {
  "kernelspec": {
   "display_name": "Python 3 (ipykernel)",
   "language": "python",
   "name": "python3"
  },
  "language_info": {
   "codemirror_mode": {
    "name": "ipython",
    "version": 3
   },
   "file_extension": ".py",
   "mimetype": "text/x-python",
   "name": "python",
   "nbconvert_exporter": "python",
   "pygments_lexer": "ipython3",
   "version": "3.8.10"
  },
  "toc": {
   "base_numbering": 1,
   "nav_menu": {},
   "number_sections": true,
   "sideBar": true,
   "skip_h1_title": false,
   "title_cell": "Table of Contents",
   "title_sidebar": "Contents",
   "toc_cell": false,
   "toc_position": {},
   "toc_section_display": true,
   "toc_window_display": false
  }
 },
 "nbformat": 4,
 "nbformat_minor": 1
}
