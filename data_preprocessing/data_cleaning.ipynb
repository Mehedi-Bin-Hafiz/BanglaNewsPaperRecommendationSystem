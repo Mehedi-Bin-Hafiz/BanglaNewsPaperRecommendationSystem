{
 "cells": [
  {
   "cell_type": "code",
   "execution_count": 1,
   "metadata": {},
   "outputs": [],
   "source": [
    "import pandas as pd \n",
    "df = pd.read_excel(\"../dataset/split_dataset.xlsx\") "
   ]
  },
  {
   "cell_type": "code",
   "execution_count": 2,
   "metadata": {},
   "outputs": [
    {
     "data": {
      "text/html": [
       "<div>\n",
       "<style scoped>\n",
       "    .dataframe tbody tr th:only-of-type {\n",
       "        vertical-align: middle;\n",
       "    }\n",
       "\n",
       "    .dataframe tbody tr th {\n",
       "        vertical-align: top;\n",
       "    }\n",
       "\n",
       "    .dataframe thead th {\n",
       "        text-align: right;\n",
       "    }\n",
       "</style>\n",
       "<table border=\"1\" class=\"dataframe\">\n",
       "  <thead>\n",
       "    <tr style=\"text-align: right;\">\n",
       "      <th></th>\n",
       "      <th>tags</th>\n",
       "      <th>headline</th>\n",
       "      <th>url</th>\n",
       "      <th>body</th>\n",
       "      <th>general_type</th>\n",
       "    </tr>\n",
       "  </thead>\n",
       "  <tbody>\n",
       "    <tr>\n",
       "      <th>0</th>\n",
       "      <td>['আমেরিকা  দূর পরবাস']</td>\n",
       "      <td>নিউইয়র্কে একুশের গ্রন্থমেলা</td>\n",
       "      <td>https://www.prothomalo.com/life/durporobash/নি...</td>\n",
       "      <td>['&lt;p&gt;২০ ফেব্রুয়ারি বিকেল পাঁচটায় জাতিসংঘের স...</td>\n",
       "      <td>['life', 'durporobash']</td>\n",
       "    </tr>\n",
       "    <tr>\n",
       "      <th>1</th>\n",
       "      <td>['বিবিধ', 'বিনোদন']</td>\n",
       "      <td>abc আজকের আয়োজন</td>\n",
       "      <td>https://www.prothomalo.com/entertainment/abc-আ...</td>\n",
       "      <td>['&lt;p&gt;তথ্য ও বিনোদন&lt;br /&gt;প্রেমরোগ&lt;br /&gt;কথাবন্ধু...</td>\n",
       "      <td>['entertainment']</td>\n",
       "    </tr>\n",
       "    <tr>\n",
       "      <th>2</th>\n",
       "      <td>['বিবিধ', 'বিশাল বাংলা']</td>\n",
       "      <td>বিজ্ঞানের তিনটি বিষয়ে সম্মান কোর্স চালুর দাবি</td>\n",
       "      <td>https://www.prothomalo.com/bangladesh/বিজ্ঞানে...</td>\n",
       "      <td>['&lt;p&gt;কক্সবাজার সরকারি কলেজে পদার্থ, রসায়ন ও প্...</td>\n",
       "      <td>['bangladesh']</td>\n",
       "    </tr>\n",
       "    <tr>\n",
       "      <th>3</th>\n",
       "      <td>['মতামত', 'চিঠিপত্র']</td>\n",
       "      <td>এমআরপি সংশোধন ফি</td>\n",
       "      <td>https://www.prothomalo.com/opinion/letter/এমআর...</td>\n",
       "      <td>['&lt;p&gt;বাংলাদেশে ২০০৯ সাল থেকে এমআরপি পাসপোর্ট ক...</td>\n",
       "      <td>['opinion', 'letter']</td>\n",
       "    </tr>\n",
       "    <tr>\n",
       "      <th>4</th>\n",
       "      <td>['বিবিধ', 'বিশাল বাংলা', 'রংপুর বিভাগ', 'দিনাজ...</td>\n",
       "      <td>দিনাজপুর বোর্ডে দ্বিতীয় স্থান ধরে রেখেছে আমেন...</td>\n",
       "      <td>https://www.prothomalo.com/bangladesh/দিনাজপুর...</td>\n",
       "      <td>['&lt;p&gt;দিনাজপুর শিক্ষা বোর্ডের অধীন জেএসসি পরীক্...</td>\n",
       "      <td>['bangladesh']</td>\n",
       "    </tr>\n",
       "    <tr>\n",
       "      <th>...</th>\n",
       "      <td>...</td>\n",
       "      <td>...</td>\n",
       "      <td>...</td>\n",
       "      <td>...</td>\n",
       "      <td>...</td>\n",
       "    </tr>\n",
       "    <tr>\n",
       "      <th>9995</th>\n",
       "      <td>['রাজধানী ঢাকা', 'শেষের পৃষ্ঠা', 'অপরাধ']</td>\n",
       "      <td>এ শোক মা সইবেন কী করে!</td>\n",
       "      <td>https://www.prothomalo.com/bangladesh/crime/এ-...</td>\n",
       "      <td>['&lt;p&gt;মা ছাড়া দুই ভাইবোন কিছুই বুঝত না। খাবার,...</td>\n",
       "      <td>['bangladesh', 'crime']</td>\n",
       "    </tr>\n",
       "    <tr>\n",
       "      <th>9996</th>\n",
       "      <td>['বিজ্ঞান প্রযুক্তি', 'খবরাখবর']</td>\n",
       "      <td>বড় পরিসরে শুরু হচ্ছে এবারের ইএটিএল-প্রথম আলো ...</td>\n",
       "      <td>https://www.prothomalo.com/education/science-t...</td>\n",
       "      <td>['&lt;p&gt;আরও বড় পরিসরে শুরু হচ্ছে ইএটিএল-প্রথম আলে...</td>\n",
       "      <td>['education', 'science-tech']</td>\n",
       "    </tr>\n",
       "    <tr>\n",
       "      <th>9997</th>\n",
       "      <td>['পড়াশোনা', 'প্রাথমিক ও মাধ্যমিক শিক্ষা']</td>\n",
       "      <td>গণিত</td>\n",
       "      <td>https://www.prothomalo.com/education/গণিত-93</td>\n",
       "      <td>['&lt;p&gt;সৃজনশীল প্রশ্নোত্তর :অধ্যায়-১&lt;/p&gt;', '&lt;p&gt;প...</td>\n",
       "      <td>['education']</td>\n",
       "    </tr>\n",
       "    <tr>\n",
       "      <th>9998</th>\n",
       "      <td>['প্রথম পৃষ্ঠা', 'আইন ও বিচার', 'বিচার']</td>\n",
       "      <td>মামলা করেও হতাশ ভুক্তভোগী পরিবার</td>\n",
       "      <td>https://www.prothomalo.com/bangladesh/মামলা-কর...</td>\n",
       "      <td>['&lt;p&gt;উত্ত্যক্ত করার ঘটনায় থানায় মামলা করার প...</td>\n",
       "      <td>['bangladesh']</td>\n",
       "    </tr>\n",
       "    <tr>\n",
       "      <th>9999</th>\n",
       "      <td>['পড়াশোনা', 'প্রাথমিক ও মাধ্যমিক শিক্ষা']</td>\n",
       "      <td>বাংলা ২য় পত্র</td>\n",
       "      <td>https://www.prothomalo.com/education/বাংলা-২য়...</td>\n",
       "      <td>['&lt;p&gt;&lt;strong&gt;অনুচ্ছেদ লিখন&lt;/strong&gt;&lt;/p&gt;', '&lt;p&gt;...</td>\n",
       "      <td>['education']</td>\n",
       "    </tr>\n",
       "  </tbody>\n",
       "</table>\n",
       "<p>10000 rows × 5 columns</p>\n",
       "</div>"
      ],
      "text/plain": [
       "                                                   tags  \\\n",
       "0                                ['আমেরিকা  দূর পরবাস']   \n",
       "1                                   ['বিবিধ', 'বিনোদন']   \n",
       "2                              ['বিবিধ', 'বিশাল বাংলা']   \n",
       "3                                 ['মতামত', 'চিঠিপত্র']   \n",
       "4     ['বিবিধ', 'বিশাল বাংলা', 'রংপুর বিভাগ', 'দিনাজ...   \n",
       "...                                                 ...   \n",
       "9995          ['রাজধানী ঢাকা', 'শেষের পৃষ্ঠা', 'অপরাধ']   \n",
       "9996                   ['বিজ্ঞান প্রযুক্তি', 'খবরাখবর']   \n",
       "9997          ['পড়াশোনা', 'প্রাথমিক ও মাধ্যমিক শিক্ষা']   \n",
       "9998           ['প্রথম পৃষ্ঠা', 'আইন ও বিচার', 'বিচার']   \n",
       "9999          ['পড়াশোনা', 'প্রাথমিক ও মাধ্যমিক শিক্ষা']   \n",
       "\n",
       "                                               headline  \\\n",
       "0                          নিউইয়র্কে একুশের গ্রন্থমেলা   \n",
       "1                                      abc আজকের আয়োজন   \n",
       "2        বিজ্ঞানের তিনটি বিষয়ে সম্মান কোর্স চালুর দাবি   \n",
       "3                                      এমআরপি সংশোধন ফি   \n",
       "4     দিনাজপুর বোর্ডে দ্বিতীয় স্থান ধরে রেখেছে আমেন...   \n",
       "...                                                 ...   \n",
       "9995                             এ শোক মা সইবেন কী করে!   \n",
       "9996  বড় পরিসরে শুরু হচ্ছে এবারের ইএটিএল-প্রথম আলো ...   \n",
       "9997                                               গণিত   \n",
       "9998                   মামলা করেও হতাশ ভুক্তভোগী পরিবার   \n",
       "9999                                     বাংলা ২য় পত্র   \n",
       "\n",
       "                                                    url  \\\n",
       "0     https://www.prothomalo.com/life/durporobash/নি...   \n",
       "1     https://www.prothomalo.com/entertainment/abc-আ...   \n",
       "2     https://www.prothomalo.com/bangladesh/বিজ্ঞানে...   \n",
       "3     https://www.prothomalo.com/opinion/letter/এমআর...   \n",
       "4     https://www.prothomalo.com/bangladesh/দিনাজপুর...   \n",
       "...                                                 ...   \n",
       "9995  https://www.prothomalo.com/bangladesh/crime/এ-...   \n",
       "9996  https://www.prothomalo.com/education/science-t...   \n",
       "9997       https://www.prothomalo.com/education/গণিত-93   \n",
       "9998  https://www.prothomalo.com/bangladesh/মামলা-কর...   \n",
       "9999  https://www.prothomalo.com/education/বাংলা-২য়...   \n",
       "\n",
       "                                                   body  \\\n",
       "0     ['<p>২০ ফেব্রুয়ারি বিকেল পাঁচটায় জাতিসংঘের স...   \n",
       "1     ['<p>তথ্য ও বিনোদন<br />প্রেমরোগ<br />কথাবন্ধু...   \n",
       "2     ['<p>কক্সবাজার সরকারি কলেজে পদার্থ, রসায়ন ও প্...   \n",
       "3     ['<p>বাংলাদেশে ২০০৯ সাল থেকে এমআরপি পাসপোর্ট ক...   \n",
       "4     ['<p>দিনাজপুর শিক্ষা বোর্ডের অধীন জেএসসি পরীক্...   \n",
       "...                                                 ...   \n",
       "9995  ['<p>মা ছাড়া দুই ভাইবোন কিছুই বুঝত না। খাবার,...   \n",
       "9996  ['<p>আরও বড় পরিসরে শুরু হচ্ছে ইএটিএল-প্রথম আলে...   \n",
       "9997  ['<p>সৃজনশীল প্রশ্নোত্তর :অধ্যায়-১</p>', '<p>প...   \n",
       "9998  ['<p>উত্ত্যক্ত করার ঘটনায় থানায় মামলা করার প...   \n",
       "9999  ['<p><strong>অনুচ্ছেদ লিখন</strong></p>', '<p>...   \n",
       "\n",
       "                       general_type  \n",
       "0           ['life', 'durporobash']  \n",
       "1                 ['entertainment']  \n",
       "2                    ['bangladesh']  \n",
       "3             ['opinion', 'letter']  \n",
       "4                    ['bangladesh']  \n",
       "...                             ...  \n",
       "9995        ['bangladesh', 'crime']  \n",
       "9996  ['education', 'science-tech']  \n",
       "9997                  ['education']  \n",
       "9998                 ['bangladesh']  \n",
       "9999                  ['education']  \n",
       "\n",
       "[10000 rows x 5 columns]"
      ]
     },
     "execution_count": 2,
     "metadata": {},
     "output_type": "execute_result"
    }
   ],
   "source": [
    "df "
   ]
  },
  {
   "cell_type": "code",
   "execution_count": 3,
   "metadata": {},
   "outputs": [
    {
     "data": {
      "text/plain": [
       "str"
      ]
     },
     "execution_count": 3,
     "metadata": {},
     "output_type": "execute_result"
    }
   ],
   "source": [
    "type(df.general_type[0]) "
   ]
  },
  {
   "cell_type": "code",
   "execution_count": 4,
   "metadata": {},
   "outputs": [],
   "source": [
    "## target data manipulation ##\n",
    "import ast\n",
    "final_target  = list()\n",
    "for i in range(len(df)):\n",
    "    lis = ast.literal_eval(df.general_type[i])\n",
    "    if len(lis) == 1:\n",
    "        final_target.append(lis[0])\n",
    "    else:\n",
    "        final_target.append(lis[1])\n",
    "    "
   ]
  },
  {
   "cell_type": "code",
   "execution_count": 5,
   "metadata": {},
   "outputs": [],
   "source": [
    "df['target'] = final_target"
   ]
  },
  {
   "cell_type": "code",
   "execution_count": 6,
   "metadata": {},
   "outputs": [
    {
     "data": {
      "text/html": [
       "<div>\n",
       "<style scoped>\n",
       "    .dataframe tbody tr th:only-of-type {\n",
       "        vertical-align: middle;\n",
       "    }\n",
       "\n",
       "    .dataframe tbody tr th {\n",
       "        vertical-align: top;\n",
       "    }\n",
       "\n",
       "    .dataframe thead th {\n",
       "        text-align: right;\n",
       "    }\n",
       "</style>\n",
       "<table border=\"1\" class=\"dataframe\">\n",
       "  <thead>\n",
       "    <tr style=\"text-align: right;\">\n",
       "      <th></th>\n",
       "      <th>tags</th>\n",
       "      <th>headline</th>\n",
       "      <th>url</th>\n",
       "      <th>body</th>\n",
       "      <th>general_type</th>\n",
       "      <th>target</th>\n",
       "    </tr>\n",
       "  </thead>\n",
       "  <tbody>\n",
       "    <tr>\n",
       "      <th>0</th>\n",
       "      <td>['আমেরিকা  দূর পরবাস']</td>\n",
       "      <td>নিউইয়র্কে একুশের গ্রন্থমেলা</td>\n",
       "      <td>https://www.prothomalo.com/life/durporobash/নি...</td>\n",
       "      <td>['&lt;p&gt;২০ ফেব্রুয়ারি বিকেল পাঁচটায় জাতিসংঘের স...</td>\n",
       "      <td>['life', 'durporobash']</td>\n",
       "      <td>durporobash</td>\n",
       "    </tr>\n",
       "    <tr>\n",
       "      <th>1</th>\n",
       "      <td>['বিবিধ', 'বিনোদন']</td>\n",
       "      <td>abc আজকের আয়োজন</td>\n",
       "      <td>https://www.prothomalo.com/entertainment/abc-আ...</td>\n",
       "      <td>['&lt;p&gt;তথ্য ও বিনোদন&lt;br /&gt;প্রেমরোগ&lt;br /&gt;কথাবন্ধু...</td>\n",
       "      <td>['entertainment']</td>\n",
       "      <td>entertainment</td>\n",
       "    </tr>\n",
       "    <tr>\n",
       "      <th>2</th>\n",
       "      <td>['বিবিধ', 'বিশাল বাংলা']</td>\n",
       "      <td>বিজ্ঞানের তিনটি বিষয়ে সম্মান কোর্স চালুর দাবি</td>\n",
       "      <td>https://www.prothomalo.com/bangladesh/বিজ্ঞানে...</td>\n",
       "      <td>['&lt;p&gt;কক্সবাজার সরকারি কলেজে পদার্থ, রসায়ন ও প্...</td>\n",
       "      <td>['bangladesh']</td>\n",
       "      <td>bangladesh</td>\n",
       "    </tr>\n",
       "  </tbody>\n",
       "</table>\n",
       "</div>"
      ],
      "text/plain": [
       "                       tags                                        headline  \\\n",
       "0    ['আমেরিকা  দূর পরবাস']                    নিউইয়র্কে একুশের গ্রন্থমেলা   \n",
       "1       ['বিবিধ', 'বিনোদন']                                abc আজকের আয়োজন   \n",
       "2  ['বিবিধ', 'বিশাল বাংলা']  বিজ্ঞানের তিনটি বিষয়ে সম্মান কোর্স চালুর দাবি   \n",
       "\n",
       "                                                 url  \\\n",
       "0  https://www.prothomalo.com/life/durporobash/নি...   \n",
       "1  https://www.prothomalo.com/entertainment/abc-আ...   \n",
       "2  https://www.prothomalo.com/bangladesh/বিজ্ঞানে...   \n",
       "\n",
       "                                                body             general_type  \\\n",
       "0  ['<p>২০ ফেব্রুয়ারি বিকেল পাঁচটায় জাতিসংঘের স...  ['life', 'durporobash']   \n",
       "1  ['<p>তথ্য ও বিনোদন<br />প্রেমরোগ<br />কথাবন্ধু...        ['entertainment']   \n",
       "2  ['<p>কক্সবাজার সরকারি কলেজে পদার্থ, রসায়ন ও প্...           ['bangladesh']   \n",
       "\n",
       "          target  \n",
       "0    durporobash  \n",
       "1  entertainment  \n",
       "2     bangladesh  "
      ]
     },
     "execution_count": 6,
     "metadata": {},
     "output_type": "execute_result"
    }
   ],
   "source": [
    "df.head(3)"
   ]
  },
  {
   "cell_type": "code",
   "execution_count": 7,
   "metadata": {},
   "outputs": [],
   "source": [
    "import re \n",
    "import re\n",
    "import lxml.html\n",
    "import lxml.html.clean\n",
    "punctuations = '''!()-[]{};:'\"\\,<>./?@#$%^&*_~।|'''\n",
    "def clean_text(text, for_embedding=False):\n",
    "    doc = lxml.html.fromstring(text)\n",
    "    cleaner = lxml.html.clean.Cleaner(style=True) \n",
    "    doc = cleaner.clean_html(doc)\n",
    "    text = doc.text_content() \n",
    "    RE_WSPACE = re.compile(r\"\\s+\", re.IGNORECASE)\n",
    "    RE_TAGS = re.compile(r\"<[^>]+>\")\n",
    "    text = re.sub(RE_TAGS, \" \", text)\n",
    "    text = re.sub(RE_WSPACE, \" \", text)\n",
    "    no_punct = \" \"\n",
    "    for char in text:\n",
    "        if char not in punctuations:\n",
    "            no_punct = no_punct + char\n",
    "    return no_punct \n"
   ]
  },
  {
   "cell_type": "code",
   "execution_count": 8,
   "metadata": {},
   "outputs": [],
   "source": [
    "df['clean_body'] = df.body.apply( lambda x : clean_text(x))"
   ]
  },
  {
   "cell_type": "code",
   "execution_count": 9,
   "metadata": {},
   "outputs": [
    {
     "name": "stderr",
     "output_type": "stream",
     "text": [
      "C:\\Users\\Mehedi\\AppData\\Local\\Programs\\Python\\Python37\\lib\\site-packages\\gensim\\similarities\\__init__.py:15: UserWarning: The gensim.similarities.levenshtein submodule is disabled, because the optional Levenshtein package <https://pypi.org/project/python-Levenshtein/> is unavailable. Install Levenhstein (e.g. `pip install python-Levenshtein`) to suppress this warning.\n",
      "  warnings.warn(msg)\n"
     ]
    }
   ],
   "source": [
    "####################### important preprocessing ##########################\n",
    "################# stop word removing analysis ################\n",
    "from bnlp.corpus import stopwords, punctuations, letters, digits\n",
    "from bnlp.corpus import stopwords\n",
    "from bnlp.corpus.util import remove_stopwords\n",
    "import re\n",
    "\n",
    "######### foreign language removing #######\n",
    "def for_lan_re(text):\n",
    "    text = \"\".join(i for i in text if i in [\".\",\"।\"] or 2432 <= ord(i) <= 2559 or ord(i)== 32)\n",
    "    sentence = re.sub(' +', ' ', text)\n",
    "    return sentence\n",
    "\n",
    "df.clean_body = df.clean_body.apply( lambda x : for_lan_re(x))\n",
    "\n",
    "########### stopword removing ###########\n",
    "def stopword_removing(raw_text):\n",
    "    result = remove_stopwords(raw_text, stopwords)\n",
    "    return ' '.join(result)\n",
    "\n",
    "df['stop_clean_body'] =  df.clean_body.apply( lambda x : stopword_removing(x))\n"
   ]
  },
  {
   "cell_type": "code",
   "execution_count": 10,
   "metadata": {},
   "outputs": [],
   "source": [
    "df.columns\n",
    "final_df = df[['tags', 'headline', 'url','clean_body','stop_clean_body','target']]"
   ]
  },
  {
   "cell_type": "code",
   "execution_count": 11,
   "metadata": {},
   "outputs": [],
   "source": [
    "final_df.to_excel('../dataset/PreFinalDataset.xlsx',index=False)\n",
    "## need to remove | from xsxl file ##"
   ]
  },
  {
   "cell_type": "code",
   "execution_count": null,
   "metadata": {},
   "outputs": [],
   "source": []
  },
  {
   "cell_type": "code",
   "execution_count": null,
   "metadata": {},
   "outputs": [],
   "source": []
  },
  {
   "cell_type": "code",
   "execution_count": null,
   "metadata": {},
   "outputs": [],
   "source": []
  },
  {
   "cell_type": "code",
   "execution_count": 12,
   "metadata": {},
   "outputs": [],
   "source": [
    "######################## test prog ###############################"
   ]
  },
  {
   "cell_type": "code",
   "execution_count": 13,
   "metadata": {},
   "outputs": [],
   "source": [
    "############### stopword test #################\n",
    "# from bnlp.corpus import stopwords, punctuations, letters, digits\n",
    "# from bnlp.corpus import stopwords\n",
    "# from bnlp.corpus.util import remove_stopwords\n",
    "# raw_text = 'আমি ভাত খাই।'\n",
    "# result = remove_stopwords(raw_text, stopwords)\n",
    "# ' '.join(result)"
   ]
  },
  {
   "cell_type": "code",
   "execution_count": 14,
   "metadata": {},
   "outputs": [],
   "source": [
    "# import re\n",
    "\n",
    "# a = \"দেশের রাজনীতি দিনকে দিন পচে যাচ্ছে। पैरेनकाइमा कोशिकाएं . what a shame. সুস্থ থাকা দায়।\"\n",
    "\n",
    "# a = \"\".join(i for i in a if i in [\".\",\"।\"] or 2432 <= ord(i) <= 2559 or ord(i)== 32)\n",
    "# re.sub(' +', ' ', a)"
   ]
  }
 ],
 "metadata": {
  "kernelspec": {
   "display_name": "NewsVenv",
   "language": "python",
   "name": "newsvenv"
  },
  "language_info": {
   "codemirror_mode": {
    "name": "ipython",
    "version": 3
   },
   "file_extension": ".py",
   "mimetype": "text/x-python",
   "name": "python",
   "nbconvert_exporter": "python",
   "pygments_lexer": "ipython3",
   "version": "3.7.3"
  },
  "toc": {
   "base_numbering": 1,
   "nav_menu": {},
   "number_sections": true,
   "sideBar": true,
   "skip_h1_title": false,
   "title_cell": "Table of Contents",
   "title_sidebar": "Contents",
   "toc_cell": false,
   "toc_position": {},
   "toc_section_display": true,
   "toc_window_display": false
  }
 },
 "nbformat": 4,
 "nbformat_minor": 1
}
